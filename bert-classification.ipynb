{
 "cells": [
  {
   "cell_type": "markdown",
   "metadata": {
    "id": "ePVSga5E_a-e"
   },
   "source": [
    "# Clasificación de secuencias de texto con BERT y Lightning"
   ]
  },
  {
   "cell_type": "markdown",
   "metadata": {
    "id": "y_pqv14cAvww"
   },
   "source": [
    "> Objetivos:\n",
    "\n",
    "\n",
    "\n",
    "*   Procesar una base de datos de texto y adapatarla a lightning.\n",
    "*   Importar modelo BERT pre-entrenado.\n",
    "*   Hacer finetuning de BERT para detección de comentarios negativos o tóxicos.\n"
   ]
  },
  {
   "cell_type": "markdown",
   "metadata": {
    "id": "6M5FAipmhUBw"
   },
   "source": [
    "## Importar librerias"
   ]
  },
  {
   "cell_type": "code",
   "execution_count": 22,
   "metadata": {},
   "outputs": [
    {
     "name": "stdout",
     "output_type": "stream",
     "text": [
      "Requirement already satisfied: transformers in /opt/anaconda3/lib/python3.12/site-packages (4.49.0)\n",
      "Requirement already satisfied: filelock in /opt/anaconda3/lib/python3.12/site-packages (from transformers) (3.13.1)\n",
      "Requirement already satisfied: huggingface-hub<1.0,>=0.26.0 in /opt/anaconda3/lib/python3.12/site-packages (from transformers) (0.31.2)\n",
      "Requirement already satisfied: numpy>=1.17 in /opt/anaconda3/lib/python3.12/site-packages (from transformers) (1.26.4)\n",
      "Requirement already satisfied: packaging>=20.0 in /opt/anaconda3/lib/python3.12/site-packages (from transformers) (23.2)\n",
      "Requirement already satisfied: pyyaml>=5.1 in /opt/anaconda3/lib/python3.12/site-packages (from transformers) (6.0.1)\n",
      "Requirement already satisfied: regex!=2019.12.17 in /opt/anaconda3/lib/python3.12/site-packages (from transformers) (2023.10.3)\n",
      "Requirement already satisfied: requests in /opt/anaconda3/lib/python3.12/site-packages (from transformers) (2.32.2)\n",
      "Requirement already satisfied: tokenizers<0.22,>=0.21 in /opt/anaconda3/lib/python3.12/site-packages (from transformers) (0.21.0)\n",
      "Requirement already satisfied: safetensors>=0.4.1 in /opt/anaconda3/lib/python3.12/site-packages (from transformers) (0.5.3)\n",
      "Requirement already satisfied: tqdm>=4.27 in /opt/anaconda3/lib/python3.12/site-packages (from transformers) (4.67.1)\n",
      "Requirement already satisfied: fsspec>=2023.5.0 in /opt/anaconda3/lib/python3.12/site-packages (from huggingface-hub<1.0,>=0.26.0->transformers) (2024.3.1)\n",
      "Requirement already satisfied: typing-extensions>=3.7.4.3 in /opt/anaconda3/lib/python3.12/site-packages (from huggingface-hub<1.0,>=0.26.0->transformers) (4.12.2)\n",
      "Requirement already satisfied: charset-normalizer<4,>=2 in /opt/anaconda3/lib/python3.12/site-packages (from requests->transformers) (2.0.4)\n",
      "Requirement already satisfied: idna<4,>=2.5 in /opt/anaconda3/lib/python3.12/site-packages (from requests->transformers) (3.7)\n",
      "Requirement already satisfied: urllib3<3,>=1.21.1 in /opt/anaconda3/lib/python3.12/site-packages (from requests->transformers) (2.2.2)\n",
      "Requirement already satisfied: certifi>=2017.4.17 in /opt/anaconda3/lib/python3.12/site-packages (from requests->transformers) (2025.7.14)\n"
     ]
    }
   ],
   "source": [
    "#!pip install kagglehub\n",
    "#!pip install polars\n",
    "#!pip install transformers"
   ]
  },
  {
   "cell_type": "code",
   "execution_count": 36,
   "metadata": {
    "executionInfo": {
     "elapsed": 3736,
     "status": "ok",
     "timestamp": 1721169622374,
     "user": {
      "displayName": "Karen Rosero",
      "userId": "14192812651435042745"
     },
     "user_tz": 300
    },
    "id": "y5mj8cpdM_O3"
   },
   "outputs": [],
   "source": [
    "import pandas as pd\n",
    "import numpy as np\n",
    "\n",
    "from tqdm.auto import tqdm\n",
    "\n",
    "import torch\n",
    "import torch.nn as nn\n",
    "from torch.utils.data import random_split, Dataset, DataLoader\n",
    "\n",
    "from transformers import BertTokenizerFast as BertTokenizer, BertModel, AdamW, get_linear_schedule_with_warmup\n",
    "\n",
    "import pytorch_lightning as pl\n",
    "import torchmetrics\n",
    "from pytorch_lightning.callbacks import ModelCheckpoint, EarlyStopping\n",
    "from pytorch_lightning.callbacks import ModelCheckpoint\n",
    "from pytorch_lightning.loggers import CSVLogger\n",
    "from pytorch_lightning.callbacks import TQDMProgressBar, RichProgressBar\n",
    "\n",
    "from sklearn.model_selection import train_test_split\n",
    "from sklearn.metrics import classification_report, multilabel_confusion_matrix\n",
    "\n",
    "import seaborn as sns\n",
    "from pylab import rcParams\n",
    "import matplotlib.pyplot as plt\n",
    "from matplotlib import rc\n",
    "from torchmetrics import AUROC, Accuracy\n",
    "\n",
    "#nuevas librerias\n",
    "import kagglehub\n",
    "from kagglehub import KaggleDatasetAdapter\n",
    "import os\n",
    "import glob\n",
    "import zipfile\n",
    "import tempfile"
   ]
  },
  {
   "cell_type": "code",
   "execution_count": 37,
   "metadata": {
    "colab": {
     "base_uri": "https://localhost:8080/"
    },
    "executionInfo": {
     "elapsed": 110,
     "status": "ok",
     "timestamp": 1721169622486,
     "user": {
      "displayName": "Karen Rosero",
      "userId": "14192812651435042745"
     },
     "user_tz": 300
    },
    "id": "3vBmTBBIhn-Z",
    "outputId": "c173fa77-03b0-402a-8acf-8c9cf3d5000c"
   },
   "outputs": [
    {
     "name": "stderr",
     "output_type": "stream",
     "text": [
      "Seed set to 42\n"
     ]
    },
    {
     "data": {
      "text/plain": [
       "42"
      ]
     },
     "execution_count": 37,
     "metadata": {},
     "output_type": "execute_result"
    }
   ],
   "source": [
    "# Parametros para gráficos\n",
    "\n",
    "%matplotlib inline\n",
    "%config InlineBackend.figure_format='retina'\n",
    "\n",
    "RANDOM_SEED = 42\n",
    "\n",
    "sns.set(style='whitegrid', palette='muted', font_scale=1.2)\n",
    "HAPPY_COLORS_PALETTE = [\"#01BEFE\", \"#FFDD00\", \"#FF7D00\", \"#FF006D\", \"#ADFF02\", \"#8F00FF\"]\n",
    "sns.set_palette(sns.color_palette(HAPPY_COLORS_PALETTE))\n",
    "rcParams['figure.figsize'] = 8,6\n",
    "\n",
    "pl.seed_everything(RANDOM_SEED)"
   ]
  },
  {
   "cell_type": "markdown",
   "metadata": {
    "id": "btZjckeJs5j7"
   },
   "source": [
    "## Dataset\n",
    "\n",
    "El dataset IMDB contiene 50,000 reseñas de películas etiquetadas como positivas o negativas. Fue descargado desde Kaggle usando el repositorio [IMDB Dataset of 50K Movie Reviews](https://www.kaggle.com/datasets/lakshmi25npathi/imdb-dataset-of-50k-movie-reviews).\n"
   ]
  },
  {
   "cell_type": "code",
   "execution_count": 38,
   "metadata": {
    "colab": {
     "base_uri": "https://localhost:8080/"
    },
    "executionInfo": {
     "elapsed": 12133,
     "status": "ok",
     "timestamp": 1721169634852,
     "user": {
      "displayName": "Karen Rosero",
      "userId": "14192812651435042745"
     },
     "user_tz": 300
    },
    "id": "zpT48Rwl94aP",
    "outputId": "72e390c1-bf65-4fc6-d9be-af85ce939991"
   },
   "outputs": [],
   "source": [
    "# Descargar la base de datos\n",
    "#!gdown --id 1VuQ-U7TtggShMeuRSA_hzC8qGDl2LRkr"
   ]
  },
  {
   "cell_type": "markdown",
   "metadata": {
    "id": "FEQ-aGlT5yTU"
   },
   "source": [
    "Dado que son solo 68.8M de datos, los cargamos en memoria:"
   ]
  },
  {
   "cell_type": "code",
   "execution_count": 39,
   "metadata": {},
   "outputs": [
    {
     "name": "stdout",
     "output_type": "stream",
     "text": [
      "Dataset path: /Users/feliperosero/.cache/kagglehub/datasets/lakshmi25npathi/imdb-dataset-of-50k-movie-reviews/versions/1\n",
      "Using CSV: /Users/feliperosero/.cache/kagglehub/datasets/lakshmi25npathi/imdb-dataset-of-50k-movie-reviews/versions/1/IMDB Dataset.csv\n",
      "(50000, 2)\n",
      "(50000, 2)\n"
     ]
    },
    {
     "data": {
      "text/html": [
       "<div>\n",
       "<style scoped>\n",
       "    .dataframe tbody tr th:only-of-type {\n",
       "        vertical-align: middle;\n",
       "    }\n",
       "\n",
       "    .dataframe tbody tr th {\n",
       "        vertical-align: top;\n",
       "    }\n",
       "\n",
       "    .dataframe thead th {\n",
       "        text-align: right;\n",
       "    }\n",
       "</style>\n",
       "<table border=\"1\" class=\"dataframe\">\n",
       "  <thead>\n",
       "    <tr style=\"text-align: right;\">\n",
       "      <th></th>\n",
       "      <th>review</th>\n",
       "      <th>sentiment</th>\n",
       "    </tr>\n",
       "  </thead>\n",
       "  <tbody>\n",
       "    <tr>\n",
       "      <th>0</th>\n",
       "      <td>One of the other reviewers has mentioned that ...</td>\n",
       "      <td>positive</td>\n",
       "    </tr>\n",
       "    <tr>\n",
       "      <th>1</th>\n",
       "      <td>A wonderful little production. &lt;br /&gt;&lt;br /&gt;The...</td>\n",
       "      <td>positive</td>\n",
       "    </tr>\n",
       "    <tr>\n",
       "      <th>2</th>\n",
       "      <td>I thought this was a wonderful way to spend ti...</td>\n",
       "      <td>positive</td>\n",
       "    </tr>\n",
       "    <tr>\n",
       "      <th>3</th>\n",
       "      <td>Basically there's a family where a little boy ...</td>\n",
       "      <td>negative</td>\n",
       "    </tr>\n",
       "    <tr>\n",
       "      <th>4</th>\n",
       "      <td>Petter Mattei's \"Love in the Time of Money\" is...</td>\n",
       "      <td>positive</td>\n",
       "    </tr>\n",
       "  </tbody>\n",
       "</table>\n",
       "</div>"
      ],
      "text/plain": [
       "                                              review sentiment\n",
       "0  One of the other reviewers has mentioned that ...  positive\n",
       "1  A wonderful little production. <br /><br />The...  positive\n",
       "2  I thought this was a wonderful way to spend ti...  positive\n",
       "3  Basically there's a family where a little boy ...  negative\n",
       "4  Petter Mattei's \"Love in the Time of Money\" is...  positive"
      ]
     },
     "execution_count": 39,
     "metadata": {},
     "output_type": "execute_result"
    }
   ],
   "source": [
    "\n",
    "\n",
    "# Descargar la última versión\n",
    "dataset_path = kagglehub.dataset_download(\"lakshmi25npathi/imdb-dataset-of-50k-movie-reviews\")\n",
    "print(\"Dataset path:\", dataset_path)\n",
    "\n",
    "# Si es un ZIP, extraer a directorio temporal\n",
    "if os.path.isfile(dataset_path) and dataset_path.lower().endswith(\".zip\"):\n",
    "    extract_dir = tempfile.mkdtemp()\n",
    "    with zipfile.ZipFile(dataset_path, \"r\") as z:\n",
    "        z.extractall(extract_dir)\n",
    "    search_dir = extract_dir\n",
    "else:\n",
    "    search_dir = dataset_path\n",
    "\n",
    "# Buscar archivos CSV\n",
    "csv_files = glob.glob(os.path.join(search_dir, \"**\", \"*.csv\"), recursive=True)\n",
    "if not csv_files:\n",
    "    raise FileNotFoundError(f\"No CSV files found under {search_dir}\")\n",
    "\n",
    "csv_file = csv_files[0]\n",
    "print(\"Using CSV:\", csv_file)\n",
    "\n",
    "# Leer con pandas (fallback de encoding si falla)\n",
    "try:\n",
    "    df = pd.read_csv(csv_file)\n",
    "except UnicodeDecodeError:\n",
    "    df = pd.read_csv(csv_file, encoding=\"latin1\")\n",
    "\n",
    "print(df.shape)\n",
    "df.head()"
   ]
  },
  {
   "cell_type": "code",
   "execution_count": 40,
   "metadata": {
    "colab": {
     "base_uri": "https://localhost:8080/",
     "height": 275
    },
    "executionInfo": {
     "elapsed": 798,
     "status": "ok",
     "timestamp": 1721169635652,
     "user": {
      "displayName": "Karen Rosero",
      "userId": "14192812651435042745"
     },
     "user_tz": 300
    },
    "id": "6v7DW58wrm-w",
    "outputId": "1be84c8a-1e3c-4eb5-a26c-1dbf3f3e967c"
   },
   "outputs": [],
   "source": [
    "#df = pd.read_csv(\"toxic_comments.csv\")\n",
    "#df.head()"
   ]
  },
  {
   "cell_type": "markdown",
   "metadata": {
    "id": "hX26ij7N6Uv_"
   },
   "source": [
    "Las reseñas de películas están en la columna `review` y las etiquetas de sentimiento en la columna `sentiment` (positive/negative). \n",
    "\n",
    "Para adaptar el código original de clasificación multi-etiqueta a clasificación binaria de sentimientos, creamos una columna `is_offensive` que mapea:\n",
    "- negative → 1 (considerado como \"ofensivo\" para el modelo)  \n",
    "- positive → 0 (considerado como \"no ofensivo\" para el modelo)\n",
    "\n",
    "<!-- Descripción original comentada:\n",
    "Las secuencias de texto están en la columna comment_text. Existen seis etiquetas que clasifican cada secuencia como tóxica, severamente tóxica, obscena, etc. Las columnas con comentarios no ofensivos tienen un 0 en todas las clases.\n",
    "\n",
    "Separamos los comentarios ofensivos de los no ofensivos:\n",
    "-->"
   ]
  },
  {
   "cell_type": "code",
   "execution_count": 41,
   "metadata": {
    "colab": {
     "base_uri": "https://localhost:8080/"
    },
    "executionInfo": {
     "elapsed": 150,
     "status": "ok",
     "timestamp": 1721169648586,
     "user": {
      "displayName": "Karen Rosero",
      "userId": "14192812651435042745"
     },
     "user_tz": 300
    },
    "id": "HWRU499BkPIe",
    "outputId": "e6158972-2467-428f-90d4-6b7e9d67ec1f"
   },
   "outputs": [],
   "source": [
    "#LABEL_COLUMNS = df.columns.tolist()[2:]\n",
    "#df_toxic = df[df[LABEL_COLUMNS].sum(axis=1) > 0]\n",
    "#df_clean = df[df[LABEL_COLUMNS].sum(axis=1) == 0]\n",
    "#print(\"Cantidad de secuencias de texto ofensivos: \", len(df_toxic))\n",
    "#print(\"Cantidad de secuencias de texto NO ofensivos: \", len(df_clean))"
   ]
  },
  {
   "cell_type": "code",
   "execution_count": 42,
   "metadata": {},
   "outputs": [
    {
     "name": "stdout",
     "output_type": "stream",
     "text": [
      "Cantidad de reseñas negativas (tratadas como ofensivas):  25000\n",
      "Cantidad de reseñas positivas (tratadas como no ofensivas):  25000\n",
      "Distribución de sentimientos:\n",
      "sentiment\n",
      "positive    25000\n",
      "negative    25000\n",
      "Name: count, dtype: int64\n"
     ]
    }
   ],
   "source": [
    "# Convertir el dataset IMDB para clasificación binaria\n",
    "# Mapea 'negative' a 1 (ofensivo) y 'positive' a 0 (no ofensivo)\n",
    "df['is_offensive'] = df['sentiment'].map({'negative': 1, 'positive': 0})\n",
    "\n",
    "# Renombrar columnas para compatibilidad con el código existente\n",
    "df = df.rename(columns={'review': 'comment_text'})\n",
    "\n",
    "# Crear columna de etiquetas numéricas para el modelo\n",
    "df['label'] = df['is_offensive']\n",
    "\n",
    "# Filtra por sentimiento\n",
    "df_origin = df[df['is_offensive'] == 1]  # Negativos (tratados como ofensivos)\n",
    "df_clean = df[df['is_offensive'] == 0]   # Positivos (tratados como no ofensivos)\n",
    "\n",
    "print(\"Cantidad de reseñas negativas (tratadas como ofensivas): \", len(df_origin))\n",
    "print(\"Cantidad de reseñas positivas (tratadas como no ofensivas): \", len(df_clean))\n",
    "print(\"Distribución de sentimientos:\")\n",
    "print(df['sentiment'].value_counts())"
   ]
  },
  {
   "cell_type": "markdown",
   "metadata": {
    "id": "wy2jD4ntkqIx"
   },
   "source": [
    "El dataset IMDB ya está balanceado (25,000 reseñas positivas y 25,000 negativas), pero para mantener la compatibilidad con el código original, ajustamos el tamaño si es necesario.\n",
    "\n",
    "<!-- Comentario original:\n",
    "Debido al desbalance de datos, tomamos un número reducido de secuencias no ofensivas para evitar bias en el modelo.\n",
    "-->"
   ]
  },
  {
   "cell_type": "code",
   "execution_count": 43,
   "metadata": {
    "colab": {
     "base_uri": "https://localhost:8080/"
    },
    "executionInfo": {
     "elapsed": 122,
     "status": "ok",
     "timestamp": 1721169650229,
     "user": {
      "displayName": "Karen Rosero",
      "userId": "14192812651435042745"
     },
     "user_tz": 300
    },
    "id": "NHydMQQ2lCTS",
    "outputId": "1fda53f9-e601-466b-c115-c38095bcf39a"
   },
   "outputs": [
    {
     "name": "stdout",
     "output_type": "stream",
     "text": [
      "Tamaño del dataset filtrado: (50000, 4)\n",
      "Distribución final:\n",
      "sentiment\n",
      "negative    25000\n",
      "positive    25000\n",
      "Name: count, dtype: int64\n"
     ]
    }
   ],
   "source": [
    "# El dataset IMDB ya está balanceado (25k positivas, 25k negativas)\n",
    "# Usar todo el dataset o una muestra si se requiere menos datos para pruebas rápidas\n",
    "\n",
    "# Para mantener compatibilidad con el código original:\n",
    "filter_df = pd.concat([\n",
    "    df_origin,      # Todas las reseñas negativas (25,000)\n",
    "    df_clean        # Todas las reseñas positivas (25,000)\n",
    "])\n",
    "\n",
    "# Si quieres usar solo una muestra para pruebas más rápidas, descomenta:\n",
    "# filter_df = pd.concat([\n",
    "#     df_origin.sample(5000, random_state=42),\n",
    "#     df_clean.sample(5000, random_state=42)\n",
    "# ])\n",
    "\n",
    "print(f\"Tamaño del dataset filtrado: {filter_df.shape}\")\n",
    "print(\"Distribución final:\")\n",
    "print(filter_df['sentiment'].value_counts())"
   ]
  },
  {
   "cell_type": "code",
   "execution_count": 44,
   "metadata": {
    "colab": {
     "base_uri": "https://localhost:8080/"
    },
    "executionInfo": {
     "elapsed": 122,
     "status": "ok",
     "timestamp": 1721169650990,
     "user": {
      "displayName": "Karen Rosero",
      "userId": "14192812651435042745"
     },
     "user_tz": 300
    },
    "id": "EtdEvIaPmdRi",
    "outputId": "cda6b360-063c-4912-c363-d6516d8a2faa"
   },
   "outputs": [
    {
     "name": "stdout",
     "output_type": "stream",
     "text": [
      "Train DataFrame:\n",
      " 35000\n",
      "Validation DataFrame:\n",
      " 7500\n",
      "Test DataFrame:\n",
      " 7500\n"
     ]
    }
   ],
   "source": [
    "train_frac, val_frac, test_frac = 0.7, 0.15, 0.15\n",
    "\n",
    "# Shuffle the DataFrame\n",
    "filter_df = filter_df.sample(frac=1, random_state=42).reset_index(drop=True)\n",
    "\n",
    "# Calcular los indices para separar los subsets\n",
    "train_end = int(train_frac * len(filter_df))\n",
    "val_end = train_end + int(val_frac * len(filter_df))\n",
    "\n",
    "# Split the DataFrame\n",
    "train_df = filter_df[:train_end]\n",
    "val_df = filter_df[train_end:val_end]\n",
    "test_df = filter_df[val_end:]\n",
    "\n",
    "print(\"Train DataFrame:\\n\", len(train_df))\n",
    "print(\"Validation DataFrame:\\n\", len(val_df))\n",
    "print(\"Test DataFrame:\\n\", len(test_df))"
   ]
  },
  {
   "cell_type": "code",
   "execution_count": 45,
   "metadata": {
    "colab": {
     "base_uri": "https://localhost:8080/",
     "height": 243
    },
    "executionInfo": {
     "elapsed": 123,
     "status": "ok",
     "timestamp": 1721169659688,
     "user": {
      "displayName": "Karen Rosero",
      "userId": "14192812651435042745"
     },
     "user_tz": 300
    },
    "id": "MjPnsRP6nGJP",
    "outputId": "ee04309e-e04a-41be-c622-524ea4d38d87"
   },
   "outputs": [
    {
     "data": {
      "text/html": [
       "<div>\n",
       "<style scoped>\n",
       "    .dataframe tbody tr th:only-of-type {\n",
       "        vertical-align: middle;\n",
       "    }\n",
       "\n",
       "    .dataframe tbody tr th {\n",
       "        vertical-align: top;\n",
       "    }\n",
       "\n",
       "    .dataframe thead th {\n",
       "        text-align: right;\n",
       "    }\n",
       "</style>\n",
       "<table border=\"1\" class=\"dataframe\">\n",
       "  <thead>\n",
       "    <tr style=\"text-align: right;\">\n",
       "      <th></th>\n",
       "      <th>comment_text</th>\n",
       "      <th>sentiment</th>\n",
       "      <th>is_offensive</th>\n",
       "      <th>label</th>\n",
       "    </tr>\n",
       "  </thead>\n",
       "  <tbody>\n",
       "    <tr>\n",
       "      <th>0</th>\n",
       "      <td>Hello, I was wondering if anyone has a copy of...</td>\n",
       "      <td>positive</td>\n",
       "      <td>0</td>\n",
       "      <td>0</td>\n",
       "    </tr>\n",
       "    <tr>\n",
       "      <th>1</th>\n",
       "      <td>My Caddy Limo was destroyed!!! Well, I had one...</td>\n",
       "      <td>negative</td>\n",
       "      <td>1</td>\n",
       "      <td>1</td>\n",
       "    </tr>\n",
       "    <tr>\n",
       "      <th>2</th>\n",
       "      <td>A truly muddled incomprehensible mess. Most th...</td>\n",
       "      <td>negative</td>\n",
       "      <td>1</td>\n",
       "      <td>1</td>\n",
       "    </tr>\n",
       "    <tr>\n",
       "      <th>3</th>\n",
       "      <td>My friends and I rented this for \"Bad Movie Ni...</td>\n",
       "      <td>negative</td>\n",
       "      <td>1</td>\n",
       "      <td>1</td>\n",
       "    </tr>\n",
       "    <tr>\n",
       "      <th>4</th>\n",
       "      <td>This was the very first kung fu movie that I h...</td>\n",
       "      <td>positive</td>\n",
       "      <td>0</td>\n",
       "      <td>0</td>\n",
       "    </tr>\n",
       "  </tbody>\n",
       "</table>\n",
       "</div>"
      ],
      "text/plain": [
       "                                        comment_text sentiment  is_offensive  \\\n",
       "0  Hello, I was wondering if anyone has a copy of...  positive             0   \n",
       "1  My Caddy Limo was destroyed!!! Well, I had one...  negative             1   \n",
       "2  A truly muddled incomprehensible mess. Most th...  negative             1   \n",
       "3  My friends and I rented this for \"Bad Movie Ni...  negative             1   \n",
       "4  This was the very first kung fu movie that I h...  positive             0   \n",
       "\n",
       "   label  \n",
       "0      0  \n",
       "1      1  \n",
       "2      1  \n",
       "3      1  \n",
       "4      0  "
      ]
     },
     "execution_count": 45,
     "metadata": {},
     "output_type": "execute_result"
    }
   ],
   "source": [
    "train_df.head()"
   ]
  },
  {
   "cell_type": "markdown",
   "metadata": {
    "id": "EU9fW3KD7V0V"
   },
   "source": [
    "## Preprocessing\n",
    "\n",
    "\n",
    "### Tokenization\n"
   ]
  },
  {
   "cell_type": "markdown",
   "metadata": {
    "id": "EwBpI_G0FjwO"
   },
   "source": [
    "\n",
    "Convertir texto en una lista de tokens. usamos BertTokenizer pre-entrenado.\n",
    "\n",
    "BertTokenizer: Pretrained model on English language using a masked language modeling (MLM) objective. This model is case-sensitive: it makes a difference between english and English.\n",
    "The texts are tokenized using WordPiece and a vocabulary size of 30,000.\n",
    "\n",
    "Más información en: https://huggingface.co/google-bert/bert-base-cased"
   ]
  },
  {
   "cell_type": "code",
   "execution_count": 46,
   "metadata": {
    "colab": {
     "base_uri": "https://localhost:8080/"
    },
    "executionInfo": {
     "elapsed": 2327,
     "status": "ok",
     "timestamp": 1721169670726,
     "user": {
      "displayName": "Karen Rosero",
      "userId": "14192812651435042745"
     },
     "user_tz": 300
    },
    "id": "fU8CYzKonYft",
    "outputId": "4fc97edb-ec7e-43b8-e05a-9e402f5a0a8d"
   },
   "outputs": [],
   "source": [
    "BERT_MODEL_NAME = 'bert-base-cased'\n",
    "tokenizer = BertTokenizer.from_pretrained(BERT_MODEL_NAME)"
   ]
  },
  {
   "cell_type": "code",
   "execution_count": 47,
   "metadata": {
    "colab": {
     "base_uri": "https://localhost:8080/"
    },
    "executionInfo": {
     "elapsed": 109,
     "status": "ok",
     "timestamp": 1721169671951,
     "user": {
      "displayName": "Karen Rosero",
      "userId": "14192812651435042745"
     },
     "user_tz": 300
    },
    "id": "FzQ5MpcQpp4v",
    "outputId": "451d0ac7-8322-4bdc-f32f-3aee1401cf72"
   },
   "outputs": [
    {
     "data": {
      "text/plain": [
       "BertTokenizerFast(name_or_path='bert-base-cased', vocab_size=28996, model_max_length=512, is_fast=True, padding_side='right', truncation_side='right', special_tokens={'unk_token': '[UNK]', 'sep_token': '[SEP]', 'pad_token': '[PAD]', 'cls_token': '[CLS]', 'mask_token': '[MASK]'}, clean_up_tokenization_spaces=False, added_tokens_decoder={\n",
       "\t0: AddedToken(\"[PAD]\", rstrip=False, lstrip=False, single_word=False, normalized=False, special=True),\n",
       "\t100: AddedToken(\"[UNK]\", rstrip=False, lstrip=False, single_word=False, normalized=False, special=True),\n",
       "\t101: AddedToken(\"[CLS]\", rstrip=False, lstrip=False, single_word=False, normalized=False, special=True),\n",
       "\t102: AddedToken(\"[SEP]\", rstrip=False, lstrip=False, single_word=False, normalized=False, special=True),\n",
       "\t103: AddedToken(\"[MASK]\", rstrip=False, lstrip=False, single_word=False, normalized=False, special=True),\n",
       "}\n",
       ")"
      ]
     },
     "execution_count": 47,
     "metadata": {},
     "output_type": "execute_result"
    }
   ],
   "source": [
    "tokenizer"
   ]
  },
  {
   "cell_type": "markdown",
   "metadata": {
    "id": "jb6VLAmGHeEA"
   },
   "source": [
    "Tokenizando una secuencia de ejemplo:"
   ]
  },
  {
   "cell_type": "code",
   "execution_count": 48,
   "metadata": {
    "colab": {
     "base_uri": "https://localhost:8080/"
    },
    "executionInfo": {
     "elapsed": 110,
     "status": "ok",
     "timestamp": 1721169675106,
     "user": {
      "displayName": "Karen Rosero",
      "userId": "14192812651435042745"
     },
     "user_tz": 300
    },
    "id": "e_URTylSXar1",
    "outputId": "d0581398-18d8-470a-f505-37a7c2132212"
   },
   "outputs": [
    {
     "data": {
      "text/plain": [
       "comment_text    Despite some negative comments this film has g...\n",
       "sentiment                                                positive\n",
       "is_offensive                                                    0\n",
       "label                                                           0\n",
       "Name: 5, dtype: object"
      ]
     },
     "execution_count": 48,
     "metadata": {},
     "output_type": "execute_result"
    }
   ],
   "source": [
    "sample_row = train_df.iloc[5]\n",
    "sample_row"
   ]
  },
  {
   "cell_type": "code",
   "execution_count": 49,
   "metadata": {
    "colab": {
     "base_uri": "https://localhost:8080/"
    },
    "executionInfo": {
     "elapsed": 107,
     "status": "ok",
     "timestamp": 1721169676238,
     "user": {
      "displayName": "Karen Rosero",
      "userId": "14192812651435042745"
     },
     "user_tz": 300
    },
    "id": "3kDTQ5_6RnkI",
    "outputId": "961adc9e-f977-4eb3-bab5-cfa1355535bc"
   },
   "outputs": [
    {
     "name": "stdout",
     "output_type": "stream",
     "text": [
      "Sentimiento: positive\n",
      "Reseña: Despite some negative comments this film has garnered in the IMDb pages, it's still worth a look as this is a story about survival and camaraderie between two different men with different mentalities ...\n",
      "Etiqueta is_offensive: 0\n",
      "Etiqueta numérica (label): 0\n"
     ]
    }
   ],
   "source": [
    "sample_sentiment = sample_row.sentiment\n",
    "print(\"Sentimiento:\", sample_sentiment)\n",
    "\n",
    "sample_comment = sample_row.comment_text\n",
    "print(\"Reseña:\", sample_comment[:200] + \"...\" if len(sample_comment) > 200 else sample_comment)\n",
    "\n",
    "print(\"Etiqueta is_offensive:\", sample_row.is_offensive)\n",
    "print(\"Etiqueta numérica (label):\", sample_row.label)"
   ]
  },
  {
   "cell_type": "code",
   "execution_count": 50,
   "metadata": {
    "colab": {
     "base_uri": "https://localhost:8080/"
    },
    "executionInfo": {
     "elapsed": 97,
     "status": "ok",
     "timestamp": 1721169678834,
     "user": {
      "displayName": "Karen Rosero",
      "userId": "14192812651435042745"
     },
     "user_tz": 300
    },
    "id": "DjLOQUgzUexM",
    "outputId": "0c2acd3a-1f9a-4f4d-9b4e-db2a1d454ae2"
   },
   "outputs": [
    {
     "data": {
      "text/plain": [
       "dict_keys(['input_ids', 'attention_mask'])"
      ]
     },
     "execution_count": 50,
     "metadata": {},
     "output_type": "execute_result"
    }
   ],
   "source": [
    "encoding_sample = tokenizer.encode_plus(\n",
    "  sample_comment,  # Usar sample_comment en lugar de sample_comment\n",
    "  add_special_tokens=True,\n",
    "  max_length=512,\n",
    "  return_token_type_ids=False,\n",
    "  padding=\"max_length\",\n",
    "  return_attention_mask=True,\n",
    "  return_tensors='pt',\n",
    ")\n",
    "\n",
    "encoding_sample.keys()"
   ]
  },
  {
   "cell_type": "code",
   "execution_count": 51,
   "metadata": {
    "colab": {
     "base_uri": "https://localhost:8080/"
    },
    "executionInfo": {
     "elapsed": 110,
     "status": "ok",
     "timestamp": 1721169680157,
     "user": {
      "displayName": "Karen Rosero",
      "userId": "14192812651435042745"
     },
     "user_tz": 300
    },
    "id": "V0e_EWTzX0FD",
    "outputId": "4a1d945f-2769-4e13-ca50-d498c254d1f8"
   },
   "outputs": [
    {
     "data": {
      "text/plain": [
       "tensor([[  101,  2711,  1199,  4366,  7640,  1142,  1273,  1144, 13331,  1107,\n",
       "          1103,   146, 18219,  1830,  5097,   117,  1122,   112,   188,  1253,\n",
       "          3869,   170,  1440,  1112,  1142,  1110,   170,  1642,  1164,  8115,\n",
       "          1105, 11019, 20377,  2692,  1663,  1206,  1160,  1472,  1441,  1114,\n",
       "          1472,  4910,  4233,  1229,  1107,   170,  2846,  2862,  1107,  1103,\n",
       "          8392, 11091, 11800,   119,   133,  9304,   120,   135,   133,  9304,\n",
       "           120,   135, 16289,  1900,  6132,   149,  8867,  1161,  2274,  1366,\n",
       "          1373,  1106,  2824,  1142, 11826,  1383,  1107,  8392,   119,  1109,\n",
       "          1273,  1144,  1199,  1363,  4899,  1112, 22562,   117,  1103,  8230,\n",
       "          5243,   117,  2274,   170,  3599,  2474,  1299,   117,  3055,  1850,\n",
       "          1106,  2222,  1106, 11125,   170, 14140,  3850, 12411,  1883,  1246,\n",
       "          1105,  1103, 14644,  2306,  1704,  1150,  1547,  1129,  1103,  1397,\n",
       "          2084,  1104,  1103,  1583,   119,  1109,  1178,  2463,   117,  3902,\n",
       "           117,  1144,  1185,  2541,  1107,  1184,  1119,  1144,  1151, 19469,\n",
       "          1106,  5515,   119,   133,  9304,   120,   135,   133,  9304,   120,\n",
       "           135,  3902,   117,  1103, 17346,  3599,  2474,  1299,  1106,  1103,\n",
       "         11800,  1105,  1106,  1103, 18850,  9405,  1206,  1103,  1764,  1105,\n",
       "          3850, 17499,  1222,  1103,  1107,  8702,  6066,  5894,  1237,  4810,\n",
       "          1441,   117, 10123,   170,  7468, 11788,  1121, 22562,   119,  1327,\n",
       "          2736,  1363,  1107,  2749,   117,  1110, 25707,  1107,  1103, 11800,\n",
       "           119,   133,  9304,   120,   135,   133,  9304,   120,   135,  2545,\n",
       "          4108,  5123,  2895,   117,  1110,  1126,  2811,  1150,  2144,   112,\n",
       "           189,  8077,  1277,   117,  1112,  1119, 17617,  1107,  1142,  2523,\n",
       "           117,  1133,  1107,  1103,  5618,  1104,  1103,  2523,   117,  1119,\n",
       "          1110,  1268,  1112,   170,  1299,  1104,   170,  1374,  1734,   119,\n",
       "          4224,  6359,  1773,  3902,  1674,  1184,  1119,  1169,  1114,   170,\n",
       "          1648,  1115,  2144,   112,   189,  8658,  1140,  1251, 12887,  1235,\n",
       "          1103, 10268,  1322,   119,   133,  9304,   120,   135,   133,  9304,\n",
       "           120,   135,  1370, 12977,  1104,  2168,  1273,   117,   107,   156,\n",
       "          2605,  3365,   107,  3272,  1126, 11150,  1904,  1104,  2168,  1115,\n",
       "          1114,   170,  2113,  1104, 13373,  5031,  1156,  1138,  1189,   170,\n",
       "          1167, 18330,  2523,   119,   102,     0,     0,     0,     0,     0,\n",
       "             0,     0,     0,     0,     0,     0,     0,     0,     0,     0,\n",
       "             0,     0,     0,     0,     0,     0,     0,     0,     0,     0,\n",
       "             0,     0,     0,     0,     0,     0,     0,     0,     0,     0,\n",
       "             0,     0,     0,     0,     0,     0,     0,     0,     0,     0,\n",
       "             0,     0,     0,     0,     0,     0,     0,     0,     0,     0,\n",
       "             0,     0,     0,     0,     0,     0,     0,     0,     0,     0,\n",
       "             0,     0,     0,     0,     0,     0,     0,     0,     0,     0,\n",
       "             0,     0,     0,     0,     0,     0,     0,     0,     0,     0,\n",
       "             0,     0,     0,     0,     0,     0,     0,     0,     0,     0,\n",
       "             0,     0,     0,     0,     0,     0,     0,     0,     0,     0,\n",
       "             0,     0,     0,     0,     0,     0,     0,     0,     0,     0,\n",
       "             0,     0,     0,     0,     0,     0,     0,     0,     0,     0,\n",
       "             0,     0,     0,     0,     0,     0,     0,     0,     0,     0,\n",
       "             0,     0,     0,     0,     0,     0,     0,     0,     0,     0,\n",
       "             0,     0,     0,     0,     0,     0,     0,     0,     0,     0,\n",
       "             0,     0,     0,     0,     0,     0,     0,     0,     0,     0,\n",
       "             0,     0,     0,     0,     0,     0,     0,     0,     0,     0,\n",
       "             0,     0,     0,     0,     0,     0,     0,     0,     0,     0,\n",
       "             0,     0,     0,     0,     0,     0,     0,     0,     0,     0,\n",
       "             0,     0]])"
      ]
     },
     "execution_count": 51,
     "metadata": {},
     "output_type": "execute_result"
    }
   ],
   "source": [
    "encoding_sample.input_ids"
   ]
  },
  {
   "cell_type": "code",
   "execution_count": 52,
   "metadata": {
    "colab": {
     "base_uri": "https://localhost:8080/"
    },
    "executionInfo": {
     "elapsed": 103,
     "status": "ok",
     "timestamp": 1721169684465,
     "user": {
      "displayName": "Karen Rosero",
      "userId": "14192812651435042745"
     },
     "user_tz": 300
    },
    "id": "tlqeyA3FZJaz",
    "outputId": "1e765808-21db-4cb8-c3b8-4ee4a455d62c"
   },
   "outputs": [
    {
     "data": {
      "text/plain": [
       "tensor([[1, 1, 1, 1, 1, 1, 1, 1, 1, 1, 1, 1, 1, 1, 1, 1, 1, 1, 1, 1, 1, 1, 1, 1,\n",
       "         1, 1, 1, 1, 1, 1, 1, 1, 1, 1, 1, 1, 1, 1, 1, 1, 1, 1, 1, 1, 1, 1, 1, 1,\n",
       "         1, 1, 1, 1, 1, 1, 1, 1, 1, 1, 1, 1, 1, 1, 1, 1, 1, 1, 1, 1, 1, 1, 1, 1,\n",
       "         1, 1, 1, 1, 1, 1, 1, 1, 1, 1, 1, 1, 1, 1, 1, 1, 1, 1, 1, 1, 1, 1, 1, 1,\n",
       "         1, 1, 1, 1, 1, 1, 1, 1, 1, 1, 1, 1, 1, 1, 1, 1, 1, 1, 1, 1, 1, 1, 1, 1,\n",
       "         1, 1, 1, 1, 1, 1, 1, 1, 1, 1, 1, 1, 1, 1, 1, 1, 1, 1, 1, 1, 1, 1, 1, 1,\n",
       "         1, 1, 1, 1, 1, 1, 1, 1, 1, 1, 1, 1, 1, 1, 1, 1, 1, 1, 1, 1, 1, 1, 1, 1,\n",
       "         1, 1, 1, 1, 1, 1, 1, 1, 1, 1, 1, 1, 1, 1, 1, 1, 1, 1, 1, 1, 1, 1, 1, 1,\n",
       "         1, 1, 1, 1, 1, 1, 1, 1, 1, 1, 1, 1, 1, 1, 1, 1, 1, 1, 1, 1, 1, 1, 1, 1,\n",
       "         1, 1, 1, 1, 1, 1, 1, 1, 1, 1, 1, 1, 1, 1, 1, 1, 1, 1, 1, 1, 1, 1, 1, 1,\n",
       "         1, 1, 1, 1, 1, 1, 1, 1, 1, 1, 1, 1, 1, 1, 1, 1, 1, 1, 1, 1, 1, 1, 1, 1,\n",
       "         1, 1, 1, 1, 1, 1, 1, 1, 1, 1, 1, 1, 1, 1, 1, 1, 1, 1, 1, 1, 1, 1, 1, 1,\n",
       "         1, 1, 1, 1, 1, 1, 1, 1, 1, 1, 1, 1, 1, 1, 1, 1, 1, 1, 1, 1, 1, 1, 1, 1,\n",
       "         1, 1, 1, 0, 0, 0, 0, 0, 0, 0, 0, 0, 0, 0, 0, 0, 0, 0, 0, 0, 0, 0, 0, 0,\n",
       "         0, 0, 0, 0, 0, 0, 0, 0, 0, 0, 0, 0, 0, 0, 0, 0, 0, 0, 0, 0, 0, 0, 0, 0,\n",
       "         0, 0, 0, 0, 0, 0, 0, 0, 0, 0, 0, 0, 0, 0, 0, 0, 0, 0, 0, 0, 0, 0, 0, 0,\n",
       "         0, 0, 0, 0, 0, 0, 0, 0, 0, 0, 0, 0, 0, 0, 0, 0, 0, 0, 0, 0, 0, 0, 0, 0,\n",
       "         0, 0, 0, 0, 0, 0, 0, 0, 0, 0, 0, 0, 0, 0, 0, 0, 0, 0, 0, 0, 0, 0, 0, 0,\n",
       "         0, 0, 0, 0, 0, 0, 0, 0, 0, 0, 0, 0, 0, 0, 0, 0, 0, 0, 0, 0, 0, 0, 0, 0,\n",
       "         0, 0, 0, 0, 0, 0, 0, 0, 0, 0, 0, 0, 0, 0, 0, 0, 0, 0, 0, 0, 0, 0, 0, 0,\n",
       "         0, 0, 0, 0, 0, 0, 0, 0, 0, 0, 0, 0, 0, 0, 0, 0, 0, 0, 0, 0, 0, 0, 0, 0,\n",
       "         0, 0, 0, 0, 0, 0, 0, 0]])"
      ]
     },
     "execution_count": 52,
     "metadata": {},
     "output_type": "execute_result"
    }
   ],
   "source": [
    "encoding_sample.attention_mask"
   ]
  },
  {
   "cell_type": "code",
   "execution_count": 53,
   "metadata": {
    "colab": {
     "base_uri": "https://localhost:8080/"
    },
    "executionInfo": {
     "elapsed": 106,
     "status": "ok",
     "timestamp": 1721169686119,
     "user": {
      "displayName": "Karen Rosero",
      "userId": "14192812651435042745"
     },
     "user_tz": 300
    },
    "id": "t2Qoj-RJU_KR",
    "outputId": "5d415e8d-ad48-4452-ee28-38f8b9ac7293"
   },
   "outputs": [
    {
     "data": {
      "text/plain": [
       "(torch.Size([1, 512]), torch.Size([1, 512]))"
      ]
     },
     "execution_count": 53,
     "metadata": {},
     "output_type": "execute_result"
    }
   ],
   "source": [
    "encoding_sample[\"input_ids\"].shape, encoding_sample[\"attention_mask\"].shape"
   ]
  },
  {
   "cell_type": "markdown",
   "metadata": {
    "id": "hfjz0npA3cVR"
   },
   "source": [
    "La tokenización entrega un diccionario con los IDs de los tokens en la key `input_ids` y las máscaras de atención en `attention_mask`.\n",
    "\n",
    "También podemos convertir los IDs a las subpalabras originales:\n"
   ]
  },
  {
   "cell_type": "code",
   "execution_count": 54,
   "metadata": {
    "colab": {
     "base_uri": "https://localhost:8080/"
    },
    "executionInfo": {
     "elapsed": 111,
     "status": "ok",
     "timestamp": 1721169689584,
     "user": {
      "displayName": "Karen Rosero",
      "userId": "14192812651435042745"
     },
     "user_tz": 300
    },
    "id": "ib74R7MVsjmS",
    "outputId": "b20b9f2b-3b57-4b61-a3e5-5c407aef8888"
   },
   "outputs": [
    {
     "name": "stdout",
     "output_type": "stream",
     "text": [
      "['[CLS]', 'Despite', 'some', 'negative', 'comments', 'this', 'film', 'has', 'garnered', 'in', 'the', 'I', '##MD', '##b', 'pages', ',', 'it', \"'\", 's', 'still', 'worth', 'a', 'look', 'as', 'this', 'is', 'a', 'story', 'about', 'survival', 'and', 'ca', '##mara', '##der', '##ie', 'between', 'two', 'different', 'men', 'with', 'different', 'mental', '##ities', 'while', 'in', 'a', 'difficult', 'mission', 'in', 'the', 'Panama', '##nian', 'jungle', '.', '<', 'br', '/', '>', '<', 'br', '/', '>', 'Peruvian', 'director', 'Luis', 'L', '##los', '##a', 'takes', 'us', 'along', 'to', 'watch', 'this', 'thriller', 'set', 'in', 'Panama', '.', 'The', 'film', 'has', 'some', 'good', 'moments', 'as', 'Beckett', ',', 'the', 'veteran', 'marine', ',', 'takes', 'a', 'newly', 'arrived', 'man', ',', 'recently', 'sent', 'to', 'try', 'to', 'eliminate', 'a', 'notorious', 'drug', 'cart', '##el', 'head', 'and', 'the', 'corrupt', 'army', 'general', 'who', 'might', 'be', 'the', 'next', 'president', 'of', 'the', 'country', '.', 'The', 'only', 'problem', ',', 'Miller', ',', 'has', 'no', 'experience', 'in', 'what', 'he', 'has', 'been', 'entrusted', 'to', 'achieve', '.', '<', 'br', '/', '>', '<', 'br', '/', '>', 'Miller', ',', 'the', 'arrogant', 'newly', 'arrived', 'man', 'to', 'the', 'jungle', 'and', 'to', 'the', 'guerrilla', 'warfare', 'between', 'the', 'military', 'and', 'drug', 'lords', 'against', 'the', 'in', '##fi', '##lt', '##rated', 'American', 'intelligence', 'men', ',', 'learns', 'a', 'valuable', 'lesson', 'from', 'Beckett', '.', 'What', 'looks', 'good', 'in', 'theory', ',', 'is', 'irrelevant', 'in', 'the', 'jungle', '.', '<', 'br', '/', '>', '<', 'br', '/', '>', 'Tom', 'Be', '##ren', '##ger', ',', 'is', 'an', 'actor', 'who', 'doesn', \"'\", 't', 'register', 'much', ',', 'as', 'he', 'proves', 'in', 'this', 'movie', ',', 'but', 'in', 'the', 'context', 'of', 'the', 'movie', ',', 'he', 'is', 'right', 'as', 'a', 'man', 'of', 'a', 'few', 'words', '.', 'Billy', 'Zane', 'playing', 'Miller', 'does', 'what', 'he', 'can', 'with', 'a', 'role', 'that', 'doesn', \"'\", 't', 'afford', 'him', 'any', 'glory', 'until', 'the', 'crucial', 'end', '.', '<', 'br', '/', '>', '<', 'br', '/', '>', 'For', 'lovers', 'of', 'action', 'film', ',', '\"', 'S', '##ni', '##per', '\"', 'offers', 'an', '112', 'minutes', 'of', 'action', 'that', 'with', 'a', 'bit', 'of', 'trim', '##ming', 'would', 'have', 'made', 'a', 'more', 'satisfying', 'movie', '.', '[SEP]', '[PAD]', '[PAD]', '[PAD]', '[PAD]', '[PAD]', '[PAD]', '[PAD]', '[PAD]', '[PAD]', '[PAD]', '[PAD]', '[PAD]', '[PAD]', '[PAD]', '[PAD]', '[PAD]', '[PAD]', '[PAD]', '[PAD]', '[PAD]', '[PAD]', '[PAD]', '[PAD]', '[PAD]', '[PAD]', '[PAD]', '[PAD]', '[PAD]', '[PAD]', '[PAD]', '[PAD]', '[PAD]', '[PAD]', '[PAD]', '[PAD]', '[PAD]', '[PAD]', '[PAD]', '[PAD]', '[PAD]', '[PAD]', '[PAD]', '[PAD]', '[PAD]', '[PAD]', '[PAD]', '[PAD]', '[PAD]', '[PAD]', '[PAD]', '[PAD]', '[PAD]', '[PAD]', '[PAD]', '[PAD]', '[PAD]', '[PAD]', '[PAD]', '[PAD]', '[PAD]', '[PAD]', '[PAD]', '[PAD]', '[PAD]', '[PAD]', '[PAD]', '[PAD]', '[PAD]', '[PAD]', '[PAD]', '[PAD]', '[PAD]', '[PAD]', '[PAD]', '[PAD]', '[PAD]', '[PAD]', '[PAD]', '[PAD]', '[PAD]', '[PAD]', '[PAD]', '[PAD]', '[PAD]', '[PAD]', '[PAD]', '[PAD]', '[PAD]', '[PAD]', '[PAD]', '[PAD]', '[PAD]', '[PAD]', '[PAD]', '[PAD]', '[PAD]', '[PAD]', '[PAD]', '[PAD]', '[PAD]', '[PAD]', '[PAD]', '[PAD]', '[PAD]', '[PAD]', '[PAD]', '[PAD]', '[PAD]', '[PAD]', '[PAD]', '[PAD]', '[PAD]', '[PAD]', '[PAD]', '[PAD]', '[PAD]', '[PAD]', '[PAD]', '[PAD]', '[PAD]', '[PAD]', '[PAD]', '[PAD]', '[PAD]', '[PAD]', '[PAD]', '[PAD]', '[PAD]', '[PAD]', '[PAD]', '[PAD]', '[PAD]', '[PAD]', '[PAD]', '[PAD]', '[PAD]', '[PAD]', '[PAD]', '[PAD]', '[PAD]', '[PAD]', '[PAD]', '[PAD]', '[PAD]', '[PAD]', '[PAD]', '[PAD]', '[PAD]', '[PAD]', '[PAD]', '[PAD]', '[PAD]', '[PAD]', '[PAD]', '[PAD]', '[PAD]', '[PAD]', '[PAD]', '[PAD]', '[PAD]', '[PAD]', '[PAD]', '[PAD]', '[PAD]', '[PAD]', '[PAD]', '[PAD]', '[PAD]', '[PAD]', '[PAD]', '[PAD]', '[PAD]', '[PAD]', '[PAD]', '[PAD]', '[PAD]', '[PAD]', '[PAD]', '[PAD]', '[PAD]', '[PAD]', '[PAD]', '[PAD]', '[PAD]', '[PAD]', '[PAD]', '[PAD]', '[PAD]', '[PAD]', '[PAD]', '[PAD]', '[PAD]', '[PAD]', '[PAD]', '[PAD]', '[PAD]', '[PAD]']\n"
     ]
    }
   ],
   "source": [
    "print(tokenizer.convert_ids_to_tokens(encoding_sample[\"input_ids\"].squeeze()))"
   ]
  },
  {
   "cell_type": "markdown",
   "metadata": {
    "id": "BCh7o863Zcuc"
   },
   "source": [
    "[CLS] indica clasificacion, en este caso a nivel de oracion.\n",
    "\n",
    "Classify Token"
   ]
  },
  {
   "cell_type": "markdown",
   "metadata": {
    "id": "YALfbA2qKNp7"
   },
   "source": [
    "Especificamos el máximo número de tokens por secuencia: 512.\n",
    "\n",
    "Analizamos la longitud de las secuencias en el grupo de entrenamiento."
   ]
  },
  {
   "cell_type": "code",
   "execution_count": 56,
   "metadata": {
    "executionInfo": {
     "elapsed": 6769,
     "status": "ok",
     "timestamp": 1721169725148,
     "user": {
      "displayName": "Karen Rosero",
      "userId": "14192812651435042745"
     },
     "user_tz": 300
    },
    "id": "ymXBT82pIlpy"
   },
   "outputs": [],
   "source": [
    "token_counts = []\n",
    "\n",
    "for _, row in train_df.iterrows():\n",
    "  token_count = len(tokenizer.encode(\n",
    "    row[\"comment_text\"],\n",
    "    max_length=512,\n",
    "    truncation=True\n",
    "  ))\n",
    "  token_counts.append(token_count)"
   ]
  },
  {
   "cell_type": "code",
   "execution_count": 59,
   "metadata": {
    "colab": {
     "base_uri": "https://localhost:8080/"
    },
    "executionInfo": {
     "elapsed": 4,
     "status": "ok",
     "timestamp": 1721169725154,
     "user": {
      "displayName": "Karen Rosero",
      "userId": "14192812651435042745"
     },
     "user_tz": 300
    },
    "id": "c4x1nEccsvaO",
    "outputId": "0edbd8e8-f415-4c79-81d6-915d7640586e"
   },
   "outputs": [
    {
     "data": {
      "text/plain": [
       "512"
      ]
     },
     "execution_count": 59,
     "metadata": {},
     "output_type": "execute_result"
    }
   ],
   "source": [
    "max(token_counts)"
   ]
  },
  {
   "cell_type": "code",
   "execution_count": 60,
   "metadata": {
    "colab": {
     "base_uri": "https://localhost:8080/",
     "height": 530
    },
    "executionInfo": {
     "elapsed": 668,
     "status": "ok",
     "timestamp": 1721169725837,
     "user": {
      "displayName": "Karen Rosero",
      "userId": "14192812651435042745"
     },
     "user_tz": 300
    },
    "id": "Lm8tHSuhJWNM",
    "outputId": "293ac0bc-8de7-462d-8a0a-a6ee509e2ac8"
   },
   "outputs": [
    {
     "data": {
      "image/png": "[encoded data removed]",
      "text/plain": [
       "<Figure size 800x600 with 1 Axes>"
      ]
     },
     "metadata": {
      "image/png": {
       "height": 512,
       "width": 717
      }
     },
     "output_type": "display_data"
    }
   ],
   "source": [
    "sns.histplot(token_counts)\n",
    "plt.xlim([0, 515]);"
   ]
  },
  {
   "cell_type": "code",
   "execution_count": 61,
   "metadata": {
    "executionInfo": {
     "elapsed": 119,
     "status": "ok",
     "timestamp": 1721169729115,
     "user": {
      "displayName": "Karen Rosero",
      "userId": "14192812651435042745"
     },
     "user_tz": 300
    },
    "id": "D63Sg9SzejIZ"
   },
   "outputs": [],
   "source": [
    "# Definimos hiperparámetro de máximo número de tokens en la secuencia\n",
    "MAX_TOKEN_COUNT = 512"
   ]
  },
  {
   "cell_type": "markdown",
   "metadata": {
    "id": "cgXNPSXU77oc"
   },
   "source": [
    "### Modulo Dataset que incluya el tokenizador\n"
   ]
  },
  {
   "cell_type": "code",
   "execution_count": 63,
   "metadata": {
    "executionInfo": {
     "elapsed": 104,
     "status": "ok",
     "timestamp": 1721170110929,
     "user": {
      "displayName": "Karen Rosero",
      "userId": "14192812651435042745"
     },
     "user_tz": 300
    },
    "id": "CQ1YdjRlYAxF"
   },
   "outputs": [],
   "source": [
    "# Dataset class actualizada para clasificación binaria de sentimientos IMDB\n",
    "class IMDBDataset(Dataset):\n",
    "  def __init__(\n",
    "    self,\n",
    "    data: pd.DataFrame,\n",
    "    tokenizer: BertTokenizer,\n",
    "    max_token_len: int = 512\n",
    "  ):\n",
    "    self.tokenizer = tokenizer\n",
    "    self.data = data\n",
    "    self.max_token_len = max_token_len\n",
    "\n",
    "  def __len__(self):\n",
    "    return len(self.data)\n",
    "\n",
    "  def __getitem__(self, index: int):\n",
    "    data_row = self.data.iloc[index]\n",
    "\n",
    "    comment_text = data_row.comment_text\n",
    "    # Cambio principal: usar etiqueta binaria en lugar de multi-etiqueta\n",
    "    label = data_row.label  # 0 para positive, 1 para negative\n",
    "\n",
    "    encoding = self.tokenizer.encode_plus(\n",
    "      comment_text,\n",
    "      add_special_tokens=True,\n",
    "      max_length=self.max_token_len,\n",
    "      return_token_type_ids=False,\n",
    "      padding=\"max_length\",\n",
    "      truncation=True,\n",
    "      return_attention_mask=True,\n",
    "      return_tensors='pt',\n",
    "    )\n",
    "\n",
    "    return dict(\n",
    "      comment_text=comment_text,\n",
    "      input_ids=encoding[\"input_ids\"].flatten(),\n",
    "      attention_mask=encoding[\"attention_mask\"].flatten(),\n",
    "      labels=torch.FloatTensor([label])  # Solo una etiqueta binaria\n",
    "    )\n",
    "\n",
    "# Código anterior:\n",
    "# class ToxicCommentsDataset(Dataset):\n",
    "#   def __init__(\n",
    "#     self,\n",
    "#     data: pd.DataFrame,\n",
    "#     tokenizer: BertTokenizer,\n",
    "#     max_token_len: int = 512\n",
    "#   ):\n",
    "#     self.tokenizer = tokenizer\n",
    "#     self.data = data\n",
    "#     self.max_token_len = max_token_len\n",
    "#\n",
    "#   def __len__(self):\n",
    "#     return len(self.data)\n",
    "#\n",
    "#   def __getitem__(self, index: int):\n",
    "#     data_row = self.data.iloc[index]\n",
    "#\n",
    "#     comment_text = data_row.comment_text\n",
    "#     labels = data_row[LABEL_COLUMNS]\n",
    "#\n",
    "#     encoding = self.tokenizer.encode_plus(\n",
    "#       comment_text,\n",
    "#       add_special_tokens=True,\n",
    "#       max_length=self.max_token_len,\n",
    "#       return_token_type_ids=False,\n",
    "#       padding=\"max_length\",\n",
    "#       truncation=True,\n",
    "#       return_attention_mask=True,\n",
    "#       return_tensors='pt',\n",
    "#     )\n",
    "#\n",
    "#     return dict(\n",
    "#       comment_text=comment_text,\n",
    "#       input_ids=encoding[\"input_ids\"].flatten(),\n",
    "#       attention_mask=encoding[\"attention_mask\"].flatten(),\n",
    "#       labels=torch.FloatTensor(labels)\n",
    "#     )"
   ]
  },
  {
   "cell_type": "markdown",
   "metadata": {
    "id": "_nyqOozs9anR"
   },
   "source": [
    "Tomando una muestra del Dataset:"
   ]
  },
  {
   "cell_type": "code",
   "execution_count": 64,
   "metadata": {
    "colab": {
     "base_uri": "https://localhost:8080/"
    },
    "executionInfo": {
     "elapsed": 109,
     "status": "ok",
     "timestamp": 1721170112102,
     "user": {
      "displayName": "Karen Rosero",
      "userId": "14192812651435042745"
     },
     "user_tz": 300
    },
    "id": "M72dsvC-CDZD",
    "outputId": "1ba70f2e-6e7a-40ba-d4d6-37eb4afc2e42"
   },
   "outputs": [
    {
     "data": {
      "text/plain": [
       "dict_keys(['comment_text', 'input_ids', 'attention_mask', 'labels'])"
      ]
     },
     "execution_count": 64,
     "metadata": {},
     "output_type": "execute_result"
    }
   ],
   "source": [
    "# Usar la nueva clase IMDBDataset\n",
    "train_dataset = IMDBDataset(train_df, tokenizer, max_token_len=MAX_TOKEN_COUNT)\n",
    "\n",
    "sample_item = train_dataset[0]\n",
    "sample_item.keys()\n",
    "\n",
    "# Código original comentado:\n",
    "# train_dataset = ToxicCommentsDataset(train_df, tokenizer, max_token_len=MAX_TOKEN_COUNT)"
   ]
  },
  {
   "cell_type": "code",
   "execution_count": 65,
   "metadata": {
    "colab": {
     "base_uri": "https://localhost:8080/",
     "height": 35
    },
    "executionInfo": {
     "elapsed": 108,
     "status": "ok",
     "timestamp": 1721170117754,
     "user": {
      "displayName": "Karen Rosero",
      "userId": "14192812651435042745"
     },
     "user_tz": 300
    },
    "id": "R6L8exQSiYM-",
    "outputId": "488e4d5a-daad-4ebd-d08c-5becd6dbda4b"
   },
   "outputs": [
    {
     "data": {
      "text/plain": [
       "'Hello, I was wondering if anyone has a copy of the movie Broken Promise?? I loved this movie growing up and watched it every time it was on. It has been YEARS since I have seen it and would love to get a copy. I have checked all of the internet and have been unable to find it. If anyone has a copy to trade or sell em please email me at NoelGypsy@Yahoo.com... Thank you and have a great night!! Christine --------- The \"broken promise\" was made to eleven-year-old Melissa Michaelsen, whose parents have deserted her and her siblings. Taken in by the County, Michaelsen has had to watch helplessly as her brothers and sisters are split up and farmed out to different families. One of the kids is even institutionalized. Juvenile court officer Chris Sarandon joins Michaelsen in her struggle to reunite her family under one roof. Broken Promise was originally offered as a \"General Foods Golden Showcase\" presentation. It was first telecast May 5, 1981.'"
      ]
     },
     "execution_count": 65,
     "metadata": {},
     "output_type": "execute_result"
    }
   ],
   "source": [
    "sample_item[\"comment_text\"]"
   ]
  },
  {
   "cell_type": "code",
   "execution_count": 66,
   "metadata": {
    "colab": {
     "base_uri": "https://localhost:8080/"
    },
    "executionInfo": {
     "elapsed": 157,
     "status": "ok",
     "timestamp": 1721170121481,
     "user": {
      "displayName": "Karen Rosero",
      "userId": "14192812651435042745"
     },
     "user_tz": 300
    },
    "id": "ncSfaKkqiaFB",
    "outputId": "ba904c37-9fda-4c54-cce5-d27022a1daa4"
   },
   "outputs": [
    {
     "data": {
      "text/plain": [
       "tensor([0.])"
      ]
     },
     "execution_count": 66,
     "metadata": {},
     "output_type": "execute_result"
    }
   ],
   "source": [
    "sample_item[\"labels\"]"
   ]
  },
  {
   "cell_type": "code",
   "execution_count": 67,
   "metadata": {},
   "outputs": [],
   "source": [
    "# Modelo Lightning actualizado para clasificación binaria de sentimientos IMDB\n",
    "class SentimentClassifier(pl.LightningModule):\n",
    "    def __init__(self, n_training_steps=None, n_warmup_steps=None):\n",
    "        super().__init__()\n",
    "        self.bert = BertModel.from_pretrained(BERT_MODEL_NAME, return_dict=True)\n",
    "        # Cambio principal: clasificación binaria (1 clase en lugar de 6)\n",
    "        self.classifier = nn.Linear(self.bert.config.hidden_size, 1)\n",
    "        self.n_training_steps = n_training_steps\n",
    "        self.n_warmup_steps = n_warmup_steps\n",
    "        # Usar Binary Cross Entropy para clasificación binaria\n",
    "        self.criterion = nn.BCEWithLogitsLoss()\n",
    "        # Métricas para clasificación binaria\n",
    "        self.train_auroc = AUROC(task=\"binary\")\n",
    "        self.val_auroc = AUROC(task=\"binary\")\n",
    "\n",
    "    def forward(self, input_ids, attention_mask, labels=None):\n",
    "        output = self.bert(input_ids, attention_mask=attention_mask)\n",
    "        output = self.classifier(output.pooler_output)\n",
    "        loss = 0\n",
    "        if labels is not None:\n",
    "            loss = self.criterion(output.squeeze(), labels.squeeze())\n",
    "        return loss, output\n",
    "\n",
    "    def training_step(self, batch, batch_idx):\n",
    "        input_ids = batch[\"input_ids\"]\n",
    "        attention_mask = batch[\"attention_mask\"]\n",
    "        labels = batch[\"labels\"]\n",
    "        loss, outputs = self(input_ids, attention_mask, labels)\n",
    "        \n",
    "        # Calcular métricas\n",
    "        predictions = torch.sigmoid(outputs.squeeze())\n",
    "        self.train_auroc(predictions, labels.squeeze())\n",
    "        \n",
    "        self.log(\"train/loss\", loss, prog_bar=True, logger=True, on_step=True, on_epoch=True)\n",
    "        self.log(\"train/auroc\", self.train_auroc, on_step=False, on_epoch=True)\n",
    "        return {\"loss\": loss, \"predictions\": predictions, \"labels\": labels}\n",
    "\n",
    "    def validation_step(self, batch, batch_idx):\n",
    "        input_ids = batch[\"input_ids\"]\n",
    "        attention_mask = batch[\"attention_mask\"]\n",
    "        labels = batch[\"labels\"]\n",
    "        loss, outputs = self(input_ids, attention_mask, labels)\n",
    "        \n",
    "        # Calcular métricas\n",
    "        predictions = torch.sigmoid(outputs.squeeze())\n",
    "        self.val_auroc(predictions, labels.squeeze())\n",
    "        \n",
    "        self.log(\"val/loss\", loss, prog_bar=True, logger=True, on_epoch=True)\n",
    "        self.log(\"val/auroc\", self.val_auroc, on_epoch=True)\n",
    "        return loss\n",
    "\n",
    "    def test_step(self, batch, batch_idx):\n",
    "        input_ids = batch[\"input_ids\"]\n",
    "        attention_mask = batch[\"attention_mask\"]\n",
    "        labels = batch[\"labels\"]\n",
    "        loss, outputs = self(input_ids, attention_mask, labels)\n",
    "        self.log(\"test/loss\", loss, prog_bar=True, logger=True)\n",
    "        return loss\n",
    "\n",
    "    def configure_optimizers(self):\n",
    "        optimizer = AdamW(self.parameters(), lr=2e-5)\n",
    "        if self.n_training_steps:\n",
    "            scheduler = get_linear_schedule_with_warmup(\n",
    "                optimizer,\n",
    "                num_warmup_steps=self.n_warmup_steps,\n",
    "                num_training_steps=self.n_training_steps\n",
    "            )\n",
    "            return dict(\n",
    "                optimizer=optimizer,\n",
    "                lr_scheduler=dict(\n",
    "                    scheduler=scheduler,\n",
    "                    interval='step'\n",
    "                )\n",
    "            )\n",
    "        return dict(optimizer=optimizer)"
   ]
  },
  {
   "cell_type": "code",
   "execution_count": 68,
   "metadata": {},
   "outputs": [],
   "source": [
    "# DataModule actualizado para dataset IMDB\n",
    "class SentimentDataModule(pl.LightningDataModule):\n",
    "    def __init__(self, train_df, val_df, test_df, tokenizer, batch_size=8, max_token_len=512):\n",
    "        super().__init__()\n",
    "        self.batch_size = batch_size\n",
    "        self.train_df = train_df\n",
    "        self.val_df = val_df\n",
    "        self.test_df = test_df\n",
    "        self.tokenizer = tokenizer\n",
    "        self.max_token_len = max_token_len\n",
    "\n",
    "    def setup(self, stage=None):\n",
    "        # Usar IMDBDataset en lugar de ToxicCommentsDataset\n",
    "        self.train_dataset = IMDBDataset(\n",
    "            self.train_df,\n",
    "            self.tokenizer,\n",
    "            self.max_token_len\n",
    "        )\n",
    "\n",
    "        self.val_dataset = IMDBDataset(\n",
    "            self.val_df,\n",
    "            self.tokenizer,\n",
    "            self.max_token_len\n",
    "        )\n",
    "\n",
    "        self.test_dataset = IMDBDataset(\n",
    "            self.test_df,\n",
    "            self.tokenizer,\n",
    "            self.max_token_len\n",
    "        )\n",
    "\n",
    "    def train_dataloader(self):\n",
    "        return DataLoader(\n",
    "            self.train_dataset,\n",
    "            batch_size=self.batch_size,\n",
    "            shuffle=True,\n",
    "            num_workers=2\n",
    "        )\n",
    "\n",
    "    def val_dataloader(self):\n",
    "        return DataLoader(\n",
    "            self.val_dataset,\n",
    "            batch_size=self.batch_size,\n",
    "            num_workers=2\n",
    "        )\n",
    "\n",
    "    def test_dataloader(self):\n",
    "        return DataLoader(\n",
    "            self.test_dataset,\n",
    "            batch_size=self.batch_size,\n",
    "            num_workers=2\n",
    "        )"
   ]
  },
  {
   "cell_type": "code",
   "execution_count": 69,
   "metadata": {},
   "outputs": [
    {
     "name": "stdout",
     "output_type": "stream",
     "text": [
      "Steps per epoch: 2187\n",
      "Total training steps: 6561\n",
      "Warmup steps: 1312\n"
     ]
    },
    {
     "name": "stderr",
     "output_type": "stream",
     "text": [
      "Xet Storage is enabled for this repo, but the 'hf_xet' package is not installed. Falling back to regular HTTP download. For better performance, install the package with: `pip install huggingface_hub[hf_xet]` or `pip install hf_xet`\n"
     ]
    },
    {
     "data": {
      "application/vnd.jupyter.widget-view+json": {
       "model_id": "acea7edd3d8e4cce973f2d3719f1344e",
       "version_major": 2,
       "version_minor": 0
      },
      "text/plain": [
       "model.safetensors:   0%|          | 0.00/436M [00:00<?, ?B/s]"
      ]
     },
     "metadata": {},
     "output_type": "display_data"
    },
    {
     "name": "stdout",
     "output_type": "stream",
     "text": [
      "Modelo y DataModule creados exitosamente para clasificación de sentimientos IMDB\n"
     ]
    }
   ],
   "source": [
    "# Configuración de entrenamiento actualizada para clasificación binaria IMDB\n",
    "N_EPOCHS = 3  # Reducido para pruebas más rápidas\n",
    "BATCH_SIZE = 16\n",
    "\n",
    "# Crear DataModule\n",
    "data_module = SentimentDataModule(\n",
    "    train_df,\n",
    "    val_df, \n",
    "    test_df,\n",
    "    tokenizer,\n",
    "    batch_size=BATCH_SIZE,\n",
    "    max_token_len=MAX_TOKEN_COUNT\n",
    ")\n",
    "\n",
    "# Calcular pasos de entrenamiento\n",
    "steps_per_epoch = len(train_df) // BATCH_SIZE\n",
    "total_training_steps = steps_per_epoch * N_EPOCHS\n",
    "warmup_steps = total_training_steps // 5\n",
    "\n",
    "print(f\"Steps per epoch: {steps_per_epoch}\")\n",
    "print(f\"Total training steps: {total_training_steps}\")\n",
    "print(f\"Warmup steps: {warmup_steps}\")\n",
    "\n",
    "# Crear modelo\n",
    "model = SentimentClassifier(\n",
    "    n_warmup_steps=warmup_steps,\n",
    "    n_training_steps=total_training_steps\n",
    ")\n",
    "\n",
    "print(\"Modelo y DataModule creados exitosamente para clasificación de sentimientos IMDB\")"
   ]
  },
  {
   "cell_type": "code",
   "execution_count": 70,
   "metadata": {},
   "outputs": [
    {
     "name": "stderr",
     "output_type": "stream",
     "text": [
      "GPU available: True (mps), used: True\n",
      "TPU available: False, using: 0 TPU cores\n",
      "HPU available: False, using: 0 HPUs\n",
      "TPU available: False, using: 0 TPU cores\n",
      "HPU available: False, using: 0 HPUs\n"
     ]
    },
    {
     "name": "stdout",
     "output_type": "stream",
     "text": [
      "Trainer configurado para clasificación de sentimientos IMDB\n"
     ]
    }
   ],
   "source": [
    "# Configurar Trainer de Lightning\n",
    "checkpoint_callback = ModelCheckpoint(\n",
    "    dirpath=\"sentiment_checkpoints\",\n",
    "    filename=\"best-checkpoint-{epoch:02d}-{val/loss:.2f}\",\n",
    "    save_top_k=1,\n",
    "    verbose=True,\n",
    "    monitor=\"val/loss\",\n",
    "    mode=\"min\"\n",
    ")\n",
    "\n",
    "logger = CSVLogger(\"sentiment_logs\", name=\"imdb_sentiment\")\n",
    "\n",
    "early_stopping_callback = EarlyStopping(\n",
    "    monitor=\"val/loss\",\n",
    "    patience=3,\n",
    "    verbose=True,\n",
    "    mode=\"min\"\n",
    ")\n",
    "\n",
    "trainer = pl.Trainer(\n",
    "    logger=logger,\n",
    "    callbacks=[early_stopping_callback, checkpoint_callback],\n",
    "    max_epochs=N_EPOCHS,\n",
    "    accelerator=\"auto\",  # Usa GPU si está disponible\n",
    "    devices=\"auto\",\n",
    "    log_every_n_steps=10,\n",
    "    deterministic=True\n",
    ")\n",
    "\n",
    "print(\"Trainer configurado para clasificación de sentimientos IMDB\")"
   ]
  },
  {
   "cell_type": "code",
   "execution_count": null,
   "metadata": {},
   "outputs": [
    {
     "name": "stdout",
     "output_type": "stream",
     "text": [
      "Iniciando entrenamiento del modelo de clasificación de sentimientos...\n"
     ]
    },
    {
     "name": "stderr",
     "output_type": "stream",
     "text": [
      "/opt/anaconda3/lib/python3.12/site-packages/transformers/optimization.py:640: FutureWarning: This implementation of AdamW is deprecated and will be removed in a future version. Use the PyTorch implementation torch.optim.AdamW instead, or set `no_deprecation_warning=True` to disable this warning\n",
      "  warnings.warn(\n",
      "\n",
      "  | Name        | Type              | Params | Mode \n",
      "----------------------------------------------------------\n",
      "0 | bert        | BertModel         | 108 M  | eval \n",
      "1 | classifier  | Linear            | 769    | train\n",
      "2 | criterion   | BCEWithLogitsLoss | 0      | train\n",
      "3 | train_auroc | BinaryAUROC       | 0      | train\n",
      "4 | val_auroc   | BinaryAUROC       | 0      | train\n",
      "----------------------------------------------------------\n",
      "108 M     Trainable params\n",
      "0         Non-trainable params\n",
      "108 M     Total params\n",
      "433.244   Total estimated model params size (MB)\n",
      "4         Modules in train mode\n",
      "228       Modules in eval mode\n"
     ]
    },
    {
     "data": {
      "application/vnd.jupyter.widget-view+json": {
       "model_id": "e6a15dd16df9418693461935e5d742b0",
       "version_major": 2,
       "version_minor": 0
      },
      "text/plain": [
       "Sanity Checking: |          | 0/? [00:00<?, ?it/s]"
      ]
     },
     "metadata": {},
     "output_type": "display_data"
    },
    {
     "name": "stderr",
     "output_type": "stream",
     "text": [
      "/opt/anaconda3/lib/python3.12/site-packages/pytorch_lightning/trainer/connectors/data_connector.py:428: Consider setting `persistent_workers=True` in 'val_dataloader' to speed up the dataloader worker initialization.\n",
      "huggingface/tokenizers: The current process just got forked, after parallelism has already been used. Disabling parallelism to avoid deadlocks...\n",
      "To disable this warning, you can either:\n",
      "\t- Avoid using `tokenizers` before the fork if possible\n",
      "\t- Explicitly set the environment variable TOKENIZERS_PARALLELISM=(true | false)\n",
      "huggingface/tokenizers: The current process just got forked, after parallelism has already been used. Disabling parallelism to avoid deadlocks...\n",
      "To disable this warning, you can either:\n",
      "\t- Avoid using `tokenizers` before the fork if possible\n",
      "\t- Explicitly set the environment variable TOKENIZERS_PARALLELISM=(true | false)\n",
      "Traceback (most recent call last):\n",
      "  File \"<string>\", line 1, in <module>\n",
      "  File \"/opt/anaconda3/lib/python3.12/multiprocessing/spawn.py\", line 122, in spawn_main\n",
      "    exitcode = _main(fd, parent_sentinel)\n",
      "               ^^^^^^^^^^^^^^^^^^^^^^^^^^\n",
      "  File \"/opt/anaconda3/lib/python3.12/multiprocessing/spawn.py\", line 132, in _main\n",
      "    self = reduction.pickle.load(from_parent)\n",
      "           ^^^^^^^^^^^^^^^^^^^^^^^^^^^^^^^^^^\n",
      "AttributeError: Can't get attribute 'IMDBDataset' on <module '__main__' (<class '_frozen_importlib.BuiltinImporter'>)>\n",
      "Traceback (most recent call last):\n",
      "  File \"<string>\", line 1, in <module>\n",
      "  File \"/opt/anaconda3/lib/python3.12/multiprocessing/spawn.py\", line 122, in spawn_main\n",
      "    exitcode = _main(fd, parent_sentinel)\n",
      "               ^^^^^^^^^^^^^^^^^^^^^^^^^^\n",
      "  File \"/opt/anaconda3/lib/python3.12/multiprocessing/spawn.py\", line 132, in _main\n",
      "    self = reduction.pickle.load(from_parent)\n",
      "           ^^^^^^^^^^^^^^^^^^^^^^^^^^^^^^^^^^\n",
      "AttributeError: Can't get attribute 'IMDBDataset' on <module '__main__' (<class '_frozen_importlib.BuiltinImporter'>)>\n"
     ]
    }
   ],
   "source": [
    "# Entrenar el modelo\n",
    "print(\"Iniciando entrenamiento del modelo de clasificación de sentimientos...\")\n",
    "trainer.fit(model, data_module)\n",
    "print(\"Entrenamiento completado!\")"
   ]
  },
  {
   "cell_type": "code",
   "execution_count": null,
   "metadata": {},
   "outputs": [],
   "source": [
    "# Evaluación del modelo en el conjunto de prueba\n",
    "trainer.test(model, data_module)\n",
    "\n",
    "# Cargar el mejor modelo\n",
    "best_model_path = checkpoint_callback.best_model_path\n",
    "print(f\"Mejor modelo guardado en: {best_model_path}\")\n",
    "\n",
    "# Cargar el mejor modelo para predicciones\n",
    "trained_model = SentimentClassifier.load_from_checkpoint(\n",
    "    best_model_path,\n",
    "    n_warmup_steps=warmup_steps,\n",
    "    n_training_steps=total_training_steps\n",
    ")\n",
    "trained_model.eval()\n",
    "\n",
    "# Determinar dispositivo\n",
    "device = torch.device('cuda' if torch.cuda.is_available() else 'cpu')\n",
    "trained_model = trained_model.to(device)\n",
    "\n",
    "print(\"Modelo cargado y listo para predicciones\")"
   ]
  },
  {
   "cell_type": "code",
   "execution_count": null,
   "metadata": {},
   "outputs": [],
   "source": [
    "# Función para hacer predicciones en nuevos textos\n",
    "def predict_sentiment(text, model, tokenizer, device, max_length=512):\n",
    "    model.eval()\n",
    "    \n",
    "    encoding = tokenizer.encode_plus(\n",
    "        text,\n",
    "        add_special_tokens=True,\n",
    "        max_length=max_length,\n",
    "        return_token_type_ids=False,\n",
    "        padding=\"max_length\",\n",
    "        truncation=True,\n",
    "        return_attention_mask=True,\n",
    "        return_tensors='pt',\n",
    "    )\n",
    "    \n",
    "    input_ids = encoding[\"input_ids\"].to(device)\n",
    "    attention_mask = encoding[\"attention_mask\"].to(device)\n",
    "    \n",
    "    with torch.no_grad():\n",
    "        _, outputs = model(input_ids, attention_mask)\n",
    "        prediction = torch.sigmoid(outputs).cpu().numpy()[0][0]\n",
    "    \n",
    "    sentiment = \"positive\" if prediction > 0.5 else \"negative\" \n",
    "    confidence = prediction if prediction > 0.5 else 1 - prediction\n",
    "    \n",
    "    return sentiment, confidence\n",
    "\n",
    "# Ejemplos de predicción\n",
    "test_texts = [\n",
    "    \"This movie was absolutely fantastic! Great acting and amazing storyline.\",\n",
    "    \"I hated this film. It was boring and poorly made.\",\n",
    "    \"The movie was okay, nothing special but not terrible either.\",\n",
    "    \"One of the best movies I've ever seen! Highly recommended!\"\n",
    "]\n",
    "\n",
    "print(\"Predicciones en nuevos textos:\")\n",
    "print(\"-\" * 80)\n",
    "\n",
    "for text in test_texts:\n",
    "    sentiment, confidence = predict_sentiment(text, trained_model, tokenizer, device)\n",
    "    print(f\"Text: {text}\")\n",
    "    print(f\"Predicted sentiment: {sentiment.upper()}\")\n",
    "    print(f\"Confidence: {confidence:.4f}\")\n",
    "    print(\"-\" * 80)"
   ]
  },
  {
   "cell_type": "code",
   "execution_count": 31,
   "metadata": {
    "colab": {
     "base_uri": "https://localhost:8080/"
    },
    "executionInfo": {
     "elapsed": 116,
     "status": "ok",
     "timestamp": 1721170124032,
     "user": {
      "displayName": "Karen Rosero",
      "userId": "14192812651435042745"
     },
     "user_tz": 300
    },
    "id": "Ab-Kr5Js499T",
    "outputId": "9731af9c-ed9c-4d94-da5f-6ea03ab0b34f"
   },
   "outputs": [
    {
     "data": {
      "text/plain": [
       "torch.Size([512])"
      ]
     },
     "execution_count": 31,
     "metadata": {},
     "output_type": "execute_result"
    }
   ],
   "source": [
    "sample_item[\"input_ids\"].shape"
   ]
  },
  {
   "cell_type": "code",
   "execution_count": null,
   "metadata": {},
   "outputs": [],
   "source": []
  },
  {
   "cell_type": "code",
   "execution_count": null,
   "metadata": {},
   "outputs": [],
   "source": []
  },
  {
   "cell_type": "code",
   "execution_count": null,
   "metadata": {},
   "outputs": [],
   "source": []
  },
  {
   "cell_type": "markdown",
   "metadata": {
    "id": "EixHDl20-1s7"
   },
   "source": [
    "## Cargamos el modelo BERT"
   ]
  },
  {
   "cell_type": "code",
   "execution_count": 32,
   "metadata": {
    "colab": {
     "base_uri": "https://localhost:8080/"
    },
    "executionInfo": {
     "elapsed": 958,
     "status": "ok",
     "timestamp": 1721170131446,
     "user": {
      "displayName": "Karen Rosero",
      "userId": "14192812651435042745"
     },
     "user_tz": 300
    },
    "id": "rjxTYbWHuxbt",
    "outputId": "30e0a0d8-1f2f-4f96-e557-2f3be617b243"
   },
   "outputs": [
    {
     "name": "stderr",
     "output_type": "stream",
     "text": [
      "/usr/local/lib/python3.10/dist-packages/huggingface_hub/file_download.py:1132: FutureWarning: `resume_download` is deprecated and will be removed in version 1.0.0. Downloads always resume when possible. If you want to force a new download, use `force_download=True`.\n",
      "  warnings.warn(\n"
     ]
    }
   ],
   "source": [
    "bert_model = BertModel.from_pretrained(BERT_MODEL_NAME, return_dict=True)"
   ]
  },
  {
   "cell_type": "code",
   "execution_count": 35,
   "metadata": {
    "colab": {
     "base_uri": "https://localhost:8080/"
    },
    "executionInfo": {
     "elapsed": 105,
     "status": "ok",
     "timestamp": 1721170406310,
     "user": {
      "displayName": "Karen Rosero",
      "userId": "14192812651435042745"
     },
     "user_tz": 300
    },
    "id": "AuWDcY85v-jQ",
    "outputId": "da3d0f36-1470-4aea-b302-22dd1072d47d"
   },
   "outputs": [
    {
     "data": {
      "text/plain": [
       "Embedding(2, 768)"
      ]
     },
     "execution_count": 35,
     "metadata": {},
     "output_type": "execute_result"
    }
   ],
   "source": [
    "bert_model.embeddings.token_type_embeddings"
   ]
  },
  {
   "cell_type": "code",
   "execution_count": 33,
   "metadata": {
    "colab": {
     "base_uri": "https://localhost:8080/"
    },
    "executionInfo": {
     "elapsed": 106,
     "status": "ok",
     "timestamp": 1721170133170,
     "user": {
      "displayName": "Karen Rosero",
      "userId": "14192812651435042745"
     },
     "user_tz": 300
    },
    "id": "kus4qPeFegAY",
    "outputId": "0c13dbca-21de-4627-c6ce-16019831352f"
   },
   "outputs": [
    {
     "data": {
      "text/plain": [
       "BertModel(\n",
       "  (embeddings): BertEmbeddings(\n",
       "    (word_embeddings): Embedding(28996, 768, padding_idx=0)\n",
       "    (position_embeddings): Embedding(512, 768)\n",
       "    (token_type_embeddings): Embedding(2, 768)\n",
       "    (LayerNorm): LayerNorm((768,), eps=1e-12, elementwise_affine=True)\n",
       "    (dropout): Dropout(p=0.1, inplace=False)\n",
       "  )\n",
       "  (encoder): BertEncoder(\n",
       "    (layer): ModuleList(\n",
       "      (0-11): 12 x BertLayer(\n",
       "        (attention): BertAttention(\n",
       "          (self): BertSelfAttention(\n",
       "            (query): Linear(in_features=768, out_features=768, bias=True)\n",
       "            (key): Linear(in_features=768, out_features=768, bias=True)\n",
       "            (value): Linear(in_features=768, out_features=768, bias=True)\n",
       "            (dropout): Dropout(p=0.1, inplace=False)\n",
       "          )\n",
       "          (output): BertSelfOutput(\n",
       "            (dense): Linear(in_features=768, out_features=768, bias=True)\n",
       "            (LayerNorm): LayerNorm((768,), eps=1e-12, elementwise_affine=True)\n",
       "            (dropout): Dropout(p=0.1, inplace=False)\n",
       "          )\n",
       "        )\n",
       "        (intermediate): BertIntermediate(\n",
       "          (dense): Linear(in_features=768, out_features=3072, bias=True)\n",
       "          (intermediate_act_fn): GELUActivation()\n",
       "        )\n",
       "        (output): BertOutput(\n",
       "          (dense): Linear(in_features=3072, out_features=768, bias=True)\n",
       "          (LayerNorm): LayerNorm((768,), eps=1e-12, elementwise_affine=True)\n",
       "          (dropout): Dropout(p=0.1, inplace=False)\n",
       "        )\n",
       "      )\n",
       "    )\n",
       "  )\n",
       "  (pooler): BertPooler(\n",
       "    (dense): Linear(in_features=768, out_features=768, bias=True)\n",
       "    (activation): Tanh()\n",
       "  )\n",
       ")"
      ]
     },
     "execution_count": 33,
     "metadata": {},
     "output_type": "execute_result"
    }
   ],
   "source": [
    "bert_model"
   ]
  },
  {
   "cell_type": "markdown",
   "metadata": {
    "id": "la4MYs_TxP7B"
   },
   "source": [
    "(token_type_embeddings): Embedding(2, 768)\n",
    "\n",
    "Tambien conocidos como segmented embeddings, son usados para diferenciar dos segmentos de texto en una sola muestra, como para Q&A.\n",
    "Dado que nuestra aplicación considera una sola oración, el tipo de token será 0 para toda la secuencia."
   ]
  },
  {
   "cell_type": "markdown",
   "metadata": {
    "id": "vOkxShxdudZp"
   },
   "source": [
    "![bert_emb.png](data:image/png;base64,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)"
   ]
  },
  {
   "cell_type": "markdown",
   "metadata": {
    "id": "aR4yMMY3vqIG"
   },
   "source": [
    "![bert_model.png](data:image/png;base64,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)"
   ]
  },
  {
   "cell_type": "markdown",
   "metadata": {
    "id": "DwsRT_KKv8-j"
   },
   "source": [
    "Iteramos un batch del dataloader"
   ]
  },
  {
   "cell_type": "code",
   "execution_count": 36,
   "metadata": {
    "colab": {
     "base_uri": "https://localhost:8080/"
    },
    "executionInfo": {
     "elapsed": 535,
     "status": "ok",
     "timestamp": 1721170455276,
     "user": {
      "displayName": "Karen Rosero",
      "userId": "14192812651435042745"
     },
     "user_tz": 300
    },
    "id": "1CAT3QOy5NoC",
    "outputId": "93bbac0e-38a9-45ed-e6ee-f5e7b508ca6c"
   },
   "outputs": [
    {
     "name": "stderr",
     "output_type": "stream",
     "text": [
      "/usr/lib/python3.10/multiprocessing/popen_fork.py:66: RuntimeWarning: os.fork() was called. os.fork() is incompatible with multithreaded code, and JAX is multithreaded, so this will likely lead to a deadlock.\n",
      "  self.pid = os.fork()\n",
      "/usr/lib/python3.10/multiprocessing/popen_fork.py:66: RuntimeWarning: os.fork() was called. os.fork() is incompatible with multithreaded code, and JAX is multithreaded, so this will likely lead to a deadlock.\n",
      "  self.pid = os.fork()\n"
     ]
    },
    {
     "data": {
      "text/plain": [
       "(torch.Size([8, 512]), torch.Size([8, 512]))"
      ]
     },
     "execution_count": 36,
     "metadata": {},
     "output_type": "execute_result"
    }
   ],
   "source": [
    "sample_batch = next(iter(DataLoader(train_dataset, batch_size=8, num_workers=2)))\n",
    "sample_batch[\"input_ids\"].shape, sample_batch[\"attention_mask\"].shape"
   ]
  },
  {
   "cell_type": "markdown",
   "metadata": {
    "id": "igyJYctVwPmq"
   },
   "source": [
    "Pasamos un batch de datos por el modelo para verificar que no haya errores de dimensiones"
   ]
  },
  {
   "cell_type": "code",
   "execution_count": 37,
   "metadata": {
    "executionInfo": {
     "elapsed": 1742,
     "status": "ok",
     "timestamp": 1721170464676,
     "user": {
      "displayName": "Karen Rosero",
      "userId": "14192812651435042745"
     },
     "user_tz": 300
    },
    "id": "muXn8sWDuzrk"
   },
   "outputs": [],
   "source": [
    "output = bert_model(sample_batch[\"input_ids\"], sample_batch[\"attention_mask\"])"
   ]
  },
  {
   "cell_type": "code",
   "execution_count": 38,
   "metadata": {
    "colab": {
     "base_uri": "https://localhost:8080/"
    },
    "executionInfo": {
     "elapsed": 106,
     "status": "ok",
     "timestamp": 1721170471195,
     "user": {
      "displayName": "Karen Rosero",
      "userId": "14192812651435042745"
     },
     "user_tz": 300
    },
    "id": "lePNOTNuvrOb",
    "outputId": "a735841a-00a9-453a-d3a1-1e2732d7c22d"
   },
   "outputs": [
    {
     "data": {
      "text/plain": [
       "(torch.Size([8, 512, 768]), torch.Size([8, 768]))"
      ]
     },
     "execution_count": 38,
     "metadata": {},
     "output_type": "execute_result"
    }
   ],
   "source": [
    "output.last_hidden_state.shape, output.pooler_output.shape"
   ]
  },
  {
   "cell_type": "markdown",
   "metadata": {
    "id": "pe4T07xLh5E6"
   },
   "source": [
    "La dimensión `768` viene del estado oculto de BERT:"
   ]
  },
  {
   "cell_type": "code",
   "execution_count": 41,
   "metadata": {
    "colab": {
     "base_uri": "https://localhost:8080/"
    },
    "executionInfo": {
     "elapsed": 117,
     "status": "ok",
     "timestamp": 1721171012356,
     "user": {
      "displayName": "Karen Rosero",
      "userId": "14192812651435042745"
     },
     "user_tz": 300
    },
    "id": "nqYGEVO1h553",
    "outputId": "d865ebb6-b9d7-475a-8d2a-fd9748b04d8a"
   },
   "outputs": [
    {
     "data": {
      "text/plain": [
       "768"
      ]
     },
     "execution_count": 41,
     "metadata": {},
     "output_type": "execute_result"
    }
   ],
   "source": [
    "bert_model.config.hidden_size"
   ]
  },
  {
   "cell_type": "markdown",
   "metadata": {
    "id": "L1KGOf1CiEHM"
   },
   "source": [
    "### Creamos el modulo Lightning para el dataset."
   ]
  },
  {
   "cell_type": "code",
   "execution_count": 43,
   "metadata": {
    "executionInfo": {
     "elapsed": 109,
     "status": "ok",
     "timestamp": 1721171045635,
     "user": {
      "displayName": "Karen Rosero",
      "userId": "14192812651435042745"
     },
     "user_tz": 300
    },
    "id": "_qLPXLkv-cwH"
   },
   "outputs": [],
   "source": [
    "class ToxicCommentDataModule(pl.LightningDataModule):\n",
    "\n",
    "  def __init__(self, train_df, val_df, test_df, tokenizer, batch_size=8, max_token_len=512):\n",
    "    super().__init__()\n",
    "    self.batch_size = batch_size\n",
    "    self.train_df = train_df\n",
    "    self.val_df = val_df\n",
    "    self.test_df = test_df\n",
    "    self.tokenizer = tokenizer\n",
    "    self.max_token_len = max_token_len\n",
    "\n",
    "  def setup(self, stage=None):\n",
    "    self.train_dataset = ToxicCommentsDataset(\n",
    "      self.train_df,\n",
    "      self.tokenizer,\n",
    "      self.max_token_len\n",
    "    )\n",
    "\n",
    "    self.val_dataset = ToxicCommentsDataset(\n",
    "      self.val_df,\n",
    "      self.tokenizer,\n",
    "      self.max_token_len\n",
    "    )\n",
    "\n",
    "    self.test_dataset = ToxicCommentsDataset(\n",
    "      self.test_df,\n",
    "      self.tokenizer,\n",
    "      self.max_token_len\n",
    "    )\n",
    "\n",
    "  def train_dataloader(self):\n",
    "    return DataLoader(\n",
    "      self.train_dataset,\n",
    "      batch_size=self.batch_size,\n",
    "      shuffle=True,\n",
    "      num_workers=2\n",
    "    )\n",
    "\n",
    "  def val_dataloader(self):\n",
    "    return DataLoader(\n",
    "      self.val_dataset,\n",
    "      batch_size=self.batch_size,\n",
    "      num_workers=2\n",
    "    )\n",
    "\n",
    "  def test_dataloader(self):\n",
    "    return DataLoader(\n",
    "      self.test_dataset,\n",
    "      batch_size=self.batch_size,\n",
    "      num_workers=2\n",
    "    )"
   ]
  },
  {
   "cell_type": "code",
   "execution_count": 45,
   "metadata": {
    "executionInfo": {
     "elapsed": 111,
     "status": "ok",
     "timestamp": 1721172077989,
     "user": {
      "displayName": "Karen Rosero",
      "userId": "14192812651435042745"
     },
     "user_tz": 300
    },
    "id": "ntTOVFoM3Nn-"
   },
   "outputs": [],
   "source": [
    "N_EPOCHS = 10\n",
    "BATCH_SIZE = 16\n",
    "\n",
    "data_module = ToxicCommentDataModule(\n",
    "  train_df,\n",
    "  val_df,\n",
    "  test_df,\n",
    "  tokenizer,\n",
    "  batch_size=BATCH_SIZE,\n",
    "  max_token_len=MAX_TOKEN_COUNT\n",
    ")"
   ]
  },
  {
   "cell_type": "markdown",
   "metadata": {
    "id": "RekQ53cJx-pw"
   },
   "source": [
    "### Modulo lightning para el modelo BERT"
   ]
  },
  {
   "cell_type": "code",
   "execution_count": 47,
   "metadata": {
    "executionInfo": {
     "elapsed": 150,
     "status": "ok",
     "timestamp": 1721172163929,
     "user": {
      "displayName": "Karen Rosero",
      "userId": "14192812651435042745"
     },
     "user_tz": 300
    },
    "id": "USKhIewsG3-k"
   },
   "outputs": [],
   "source": [
    "class ToxicCommentTagger(pl.LightningModule):\n",
    "\n",
    "  def __init__(self, n_classes: int, n_training_steps=None, n_warmup_steps=None):\n",
    "    super().__init__()\n",
    "    self.bert = BertModel.from_pretrained(BERT_MODEL_NAME, return_dict=True)\n",
    "    self.classifier = nn.Linear(self.bert.config.hidden_size, n_classes)\n",
    "    self.n_training_steps = n_training_steps\n",
    "    self.n_warmup_steps = n_warmup_steps\n",
    "    self.criterion = nn.BCELoss()\n",
    "    self.auroc = AUROC(task=\"binary\")\n",
    "\n",
    "  def forward(self, input_ids, attention_mask, labels=None):\n",
    "    output = self.bert(input_ids, attention_mask=attention_mask)\n",
    "    output = self.classifier(output.pooler_output)\n",
    "    output = torch.sigmoid(output)\n",
    "    loss = 0\n",
    "    if labels is not None:\n",
    "        loss = self.criterion(output, labels)\n",
    "    return loss, output\n",
    "\n",
    "  def training_step(self, batch, batch_idx):\n",
    "    input_ids = batch[\"input_ids\"]\n",
    "    attention_mask = batch[\"attention_mask\"]\n",
    "    labels = batch[\"labels\"]\n",
    "    loss, outputs = self(input_ids, attention_mask, labels)\n",
    "    self.log(\"train_loss\", loss, prog_bar=True, logger=True)\n",
    "\n",
    "    return {\"loss\": loss, \"predictions\": outputs, \"labels\": labels}\n",
    "\n",
    "  def validation_step(self, batch, batch_idx):\n",
    "    input_ids = batch[\"input_ids\"]\n",
    "    attention_mask = batch[\"attention_mask\"]\n",
    "    labels = batch[\"labels\"]\n",
    "    loss, outputs = self(input_ids, attention_mask, labels)\n",
    "    self.log(\"val_loss\", loss, prog_bar=True, logger=True)\n",
    "    return loss\n",
    "\n",
    "  def test_step(self, batch, batch_idx):\n",
    "    input_ids = batch[\"input_ids\"]\n",
    "    attention_mask = batch[\"attention_mask\"]\n",
    "    labels = batch[\"labels\"]\n",
    "    loss, outputs = self(input_ids, attention_mask, labels)\n",
    "    self.log(\"test_loss\", loss, prog_bar=True, logger=True)\n",
    "    return loss\n",
    "\n",
    "  def configure_optimizers(self):\n",
    "\n",
    "    optimizer = AdamW(self.parameters(), lr=2e-5)\n",
    "\n",
    "    scheduler = get_linear_schedule_with_warmup(\n",
    "      optimizer,\n",
    "      num_warmup_steps=self.n_warmup_steps,\n",
    "      num_training_steps=self.n_training_steps\n",
    "    )\n",
    "\n",
    "    return dict(\n",
    "      optimizer=optimizer,\n",
    "      lr_scheduler=dict(\n",
    "        scheduler=scheduler,\n",
    "        interval='step'\n",
    "      )\n",
    "    )"
   ]
  },
  {
   "cell_type": "markdown",
   "metadata": {
    "id": "CMcwEc3jokpX"
   },
   "source": [
    "### Configuración del optimizador\n",
    "\n",
    "El scheduler cambia la tasa de aprendizaje en el entrenamiento. Usamos  [get_linear_schedule_with_warmup](https://huggingface.co/transformers/main_classes/optimizer_schedules.html#transformers.get_linear_schedule_with_warmup).\n",
    "\n",
    "Ejemplo simple:"
   ]
  },
  {
   "cell_type": "code",
   "execution_count": 48,
   "metadata": {
    "colab": {
     "base_uri": "https://localhost:8080/"
    },
    "executionInfo": {
     "elapsed": 125,
     "status": "ok",
     "timestamp": 1721172165050,
     "user": {
      "displayName": "Karen Rosero",
      "userId": "14192812651435042745"
     },
     "user_tz": 300
    },
    "id": "MnCP7YwNQKla",
    "outputId": "417ae1c3-cd17-4efc-8829-4d0a7e635c73"
   },
   "outputs": [
    {
     "name": "stderr",
     "output_type": "stream",
     "text": [
      "/usr/local/lib/python3.10/dist-packages/transformers/optimization.py:521: FutureWarning: This implementation of AdamW is deprecated and will be removed in a future version. Use the PyTorch implementation torch.optim.AdamW instead, or set `no_deprecation_warning=True` to disable this warning\n",
      "  warnings.warn(\n"
     ]
    }
   ],
   "source": [
    "dummy_model = nn.Linear(2, 1)\n",
    "\n",
    "optimizer = AdamW(params=dummy_model.parameters(), lr=0.001)\n",
    "\n",
    "warmup_steps = 20\n",
    "total_training_steps = 100\n",
    "\n",
    "scheduler = get_linear_schedule_with_warmup(\n",
    "  optimizer,\n",
    "  num_warmup_steps=warmup_steps,\n",
    "  num_training_steps=total_training_steps\n",
    ")\n",
    "\n",
    "learning_rate_history = []\n",
    "\n",
    "for step in range(total_training_steps):\n",
    "  optimizer.step()\n",
    "  scheduler.step()\n",
    "  learning_rate_history.append(optimizer.param_groups[0]['lr'])"
   ]
  },
  {
   "cell_type": "code",
   "execution_count": null,
   "metadata": {
    "colab": {
     "base_uri": "https://localhost:8080/",
     "height": 595
    },
    "executionInfo": {
     "elapsed": 734,
     "status": "ok",
     "timestamp": 1720819198141,
     "user": {
      "displayName": "Karen Rosero",
      "userId": "14192812651435042745"
     },
     "user_tz": 300
    },
    "id": "Lk94oy36QLe3",
    "outputId": "0bf89e02-3952-4403-b572-c809803d0d06"
   },
   "outputs": [
    {
     "data": {
      "image/png": "[encoded data removed]",
      "text/plain": [
       "<Figure size 800x600 with 1 Axes>"
      ]
     },
     "metadata": {
      "image/png": {
       "height": 578,
       "width": 777
      }
     },
     "output_type": "display_data"
    }
   ],
   "source": [
    "plt.plot(learning_rate_history, label=\"learning rate\")\n",
    "plt.axvline(x=warmup_steps, color=\"red\", linestyle=(0, (5, 10)), label=\"warmup end\")\n",
    "plt.legend()\n",
    "plt.xlabel(\"Step\")\n",
    "plt.ylabel(\"Learning rate\")\n",
    "plt.tight_layout();"
   ]
  },
  {
   "cell_type": "markdown",
   "metadata": {
    "id": "twvJQ88Z0aXV"
   },
   "source": [
    "El ejemplo simula 100 steps, de los cuales 20 el modelo se prepara con una lr diferente.  \n",
    "\n",
    "La etapa de warm-up aumenta la tasa de aprendizaje paulatinamente por un número específico de pasos para permitir que el modelo se adapte a la tarea con mayor agilidad.\n",
    "\n",
    "Después del warm-up, la tasa de aprendizaje se reduce progresivamente para que el modelo encuentre el mínimo adecuado."
   ]
  },
  {
   "cell_type": "code",
   "execution_count": 49,
   "metadata": {
    "colab": {
     "base_uri": "https://localhost:8080/"
    },
    "executionInfo": {
     "elapsed": 163,
     "status": "ok",
     "timestamp": 1721172251576,
     "user": {
      "displayName": "Karen Rosero",
      "userId": "14192812651435042745"
     },
     "user_tz": 300
    },
    "id": "r2ywIz841yni",
    "outputId": "1b09a1dd-7d94-4a75-d55e-69978f6bc931"
   },
   "outputs": [
    {
     "name": "stdout",
     "output_type": "stream",
     "text": [
      "Pasos por época:  1419\n",
      "Pasos totales de acuerdo a las épocas:  14190\n"
     ]
    }
   ],
   "source": [
    "steps_per_epoch=len(train_df) // BATCH_SIZE\n",
    "print(\"Pasos por época: \", steps_per_epoch)\n",
    "total_training_steps = steps_per_epoch * N_EPOCHS\n",
    "print(\"Pasos totales de acuerdo a las épocas: \", total_training_steps)"
   ]
  },
  {
   "cell_type": "markdown",
   "metadata": {
    "id": "YjV_biJ72ERg"
   },
   "source": [
    "\n",
    "Usamos la quinta parte de pasos para warm-up"
   ]
  },
  {
   "cell_type": "code",
   "execution_count": 50,
   "metadata": {
    "colab": {
     "base_uri": "https://localhost:8080/"
    },
    "executionInfo": {
     "elapsed": 110,
     "status": "ok",
     "timestamp": 1721172262901,
     "user": {
      "displayName": "Karen Rosero",
      "userId": "14192812651435042745"
     },
     "user_tz": 300
    },
    "id": "OSHJ3V47G90d",
    "outputId": "627f09d3-c1d6-4ec0-9e7b-807ead41f73f"
   },
   "outputs": [
    {
     "data": {
      "text/plain": [
       "(2838, 14190)"
      ]
     },
     "execution_count": 50,
     "metadata": {},
     "output_type": "execute_result"
    }
   ],
   "source": [
    "warmup_steps = total_training_steps // 5\n",
    "warmup_steps, total_training_steps"
   ]
  },
  {
   "cell_type": "code",
   "execution_count": 51,
   "metadata": {
    "colab": {
     "base_uri": "https://localhost:8080/"
    },
    "executionInfo": {
     "elapsed": 540,
     "status": "ok",
     "timestamp": 1721172265943,
     "user": {
      "displayName": "Karen Rosero",
      "userId": "14192812651435042745"
     },
     "user_tz": 300
    },
    "id": "JObpLXJaZVPh",
    "outputId": "f1ffdf9a-410e-4e0a-d032-7d48aef9df55"
   },
   "outputs": [
    {
     "name": "stderr",
     "output_type": "stream",
     "text": [
      "/usr/local/lib/python3.10/dist-packages/huggingface_hub/file_download.py:1132: FutureWarning: `resume_download` is deprecated and will be removed in version 1.0.0. Downloads always resume when possible. If you want to force a new download, use `force_download=True`.\n",
      "  warnings.warn(\n"
     ]
    }
   ],
   "source": [
    "model = ToxicCommentTagger(\n",
    "  n_classes=len(LABEL_COLUMNS),\n",
    "  n_warmup_steps=warmup_steps,\n",
    "  n_training_steps=total_training_steps\n",
    ")"
   ]
  },
  {
   "cell_type": "markdown",
   "metadata": {
    "id": "oxFxZM3KTcKA"
   },
   "source": [
    "### Ejemplo de Evaluación\n",
    "\n",
    "En este caso, la clasificación multi-clase se implementó como varias clasificaciones binarias porque las clases no son exclusivas entre sí."
   ]
  },
  {
   "cell_type": "code",
   "execution_count": 52,
   "metadata": {
    "executionInfo": {
     "elapsed": 112,
     "status": "ok",
     "timestamp": 1721172271030,
     "user": {
      "displayName": "Karen Rosero",
      "userId": "14192812651435042745"
     },
     "user_tz": 300
    },
    "id": "Z24SGvGggShC"
   },
   "outputs": [],
   "source": [
    "criterion = nn.BCELoss()\n",
    "\n",
    "prediction = torch.FloatTensor(\n",
    "  [10.95873564, 1.07321467, 1.58524066, 0.03839076, 15.72987556, 1.09513213]\n",
    ")\n",
    "labels = torch.FloatTensor(\n",
    "  [1., 0., 0., 0., 1., 0.]\n",
    ")"
   ]
  },
  {
   "cell_type": "code",
   "execution_count": null,
   "metadata": {
    "colab": {
     "base_uri": "https://localhost:8080/"
    },
    "executionInfo": {
     "elapsed": 226,
     "status": "ok",
     "timestamp": 1720821101161,
     "user": {
      "displayName": "Karen Rosero",
      "userId": "14192812651435042745"
     },
     "user_tz": 300
    },
    "id": "S-4Hl3JWlTro",
    "outputId": "6307887b-6c5b-4a1e-b38b-9f117cb7f671"
   },
   "outputs": [
    {
     "data": {
      "text/plain": [
       "tensor([1.0000, 0.7452, 0.8299, 0.5096, 1.0000, 0.7493])"
      ]
     },
     "execution_count": 235,
     "metadata": {},
     "output_type": "execute_result"
    }
   ],
   "source": [
    "torch.sigmoid(prediction)"
   ]
  },
  {
   "cell_type": "code",
   "execution_count": null,
   "metadata": {
    "colab": {
     "base_uri": "https://localhost:8080/"
    },
    "executionInfo": {
     "elapsed": 96,
     "status": "ok",
     "timestamp": 1720821135795,
     "user": {
      "displayName": "Karen Rosero",
      "userId": "14192812651435042745"
     },
     "user_tz": 300
    },
    "id": "Pa-BDcFsgzLL",
    "outputId": "ee0c20c1-7f84-4a6a-e32a-3248fc3fbd21"
   },
   "outputs": [
    {
     "data": {
      "text/plain": [
       "tensor(0.8725)"
      ]
     },
     "execution_count": 236,
     "metadata": {},
     "output_type": "execute_result"
    }
   ],
   "source": [
    "criterion(torch.sigmoid(prediction), labels)"
   ]
  },
  {
   "cell_type": "markdown",
   "metadata": {
    "id": "hFvqzK4Ua-16"
   },
   "source": [
    "## Training"
   ]
  },
  {
   "cell_type": "markdown",
   "metadata": {
    "id": "ZRCh19djVBll"
   },
   "source": [
    "Definir callbacks para guardar checkpoints, mejorar la barra de progreso, guardar los logs y aplicar early stopping."
   ]
  },
  {
   "cell_type": "code",
   "execution_count": 54,
   "metadata": {
    "executionInfo": {
     "elapsed": 115,
     "status": "ok",
     "timestamp": 1721172482480,
     "user": {
      "displayName": "Karen Rosero",
      "userId": "14192812651435042745"
     },
     "user_tz": 300
    },
    "id": "OX_FijnjVJ9u"
   },
   "outputs": [],
   "source": [
    "logger = CSVLogger(save_dir=\"logs-bert-GRUPOX/\", name=\"week3-bert\")\n",
    "\n",
    "checkpoint_callback = ModelCheckpoint(\n",
    "  save_top_k=1,\n",
    "  verbose=True,\n",
    "  monitor=\"val_loss\",\n",
    "  mode=\"min\"\n",
    ")\n",
    "\n",
    "callback_tqdm = RichProgressBar(leave=True)\n",
    "\n",
    "early_stopping_callback = EarlyStopping(monitor='val_loss', patience=2)"
   ]
  },
  {
   "cell_type": "markdown",
   "metadata": {
    "id": "ScChaiTsWy90"
   },
   "source": [
    "We can start the training process:"
   ]
  },
  {
   "cell_type": "code",
   "execution_count": 55,
   "metadata": {
    "colab": {
     "base_uri": "https://localhost:8080/"
    },
    "executionInfo": {
     "elapsed": 292,
     "status": "ok",
     "timestamp": 1721172483627,
     "user": {
      "displayName": "Karen Rosero",
      "userId": "14192812651435042745"
     },
     "user_tz": 300
    },
    "id": "lP7S4ulb3guC",
    "outputId": "ae245df0-ef2d-4799-c062-2754ef481419"
   },
   "outputs": [
    {
     "name": "stderr",
     "output_type": "stream",
     "text": [
      "INFO:pytorch_lightning.utilities.rank_zero:GPU available: True (cuda), used: True\n",
      "INFO:pytorch_lightning.utilities.rank_zero:TPU available: False, using: 0 TPU cores\n",
      "INFO:pytorch_lightning.utilities.rank_zero:IPU available: False, using: 0 IPUs\n",
      "INFO:pytorch_lightning.utilities.rank_zero:HPU available: False, using: 0 HPUs\n"
     ]
    }
   ],
   "source": [
    "trainer = pl.Trainer(\n",
    "  logger=logger,\n",
    "  callbacks=[checkpoint_callback, early_stopping_callback, callback_tqdm],\n",
    "  max_epochs=N_EPOCHS,\n",
    "  accelerator=\"auto\",  # Uses GPUs or TPUs if available\n",
    "  devices=\"auto\",  # Uses all available GPUs/TPUs if applicable\n",
    "  log_every_n_steps=100\n",
    ")"
   ]
  },
  {
   "cell_type": "code",
   "execution_count": null,
   "metadata": {
    "colab": {
     "base_uri": "https://localhost:8080/",
     "height": 609,
     "referenced_widgets": [
      "af231bb0ad0f4290855525d9131d6bab",
      "90e9a1f4ab674337923b01f3677ce420",
      "65167eb675ef49d393e8283d19456fe8",
      "cd229db92be4474b9a4c6258cfa3aaa9",
      "6ec47037a37d4903bfb7f9ae80ba4925",
      "39e5f3f049014efd99c30830c4bcf017",
      "e6c3bb4f082d41bc8480549613b9ba78",
      "326de4c08b8341d4975bd8a696c2e531"
     ]
    },
    "executionInfo": {
     "elapsed": 2113251,
     "status": "ok",
     "timestamp": 1720823468082,
     "user": {
      "displayName": "Karen Rosero",
      "userId": "14192812651435042745"
     },
     "user_tz": 300
    },
    "id": "aUVqTCwn3rrQ",
    "outputId": "05890479-667a-49f3-96fe-1e23e246f957"
   },
   "outputs": [
    {
     "name": "stderr",
     "output_type": "stream",
     "text": [
      "WARNING:lightning_fabric.loggers.csv_logs:Missing logger folder: logs-bert-GRUPOX/week3-bert\n",
      "INFO:pytorch_lightning.accelerators.cuda:LOCAL_RANK: 0 - CUDA_VISIBLE_DEVICES: [0]\n",
      "/usr/local/lib/python3.10/dist-packages/transformers/optimization.py:521: FutureWarning: This implementation of AdamW is deprecated and will be removed in a future version. Use the PyTorch implementation torch.optim.AdamW instead, or set `no_deprecation_warning=True` to disable this warning\n",
      "  warnings.warn(\n"
     ]
    },
    {
     "data": {
      "text/html": [
       "<pre style=\"white-space:pre;overflow-x:auto;line-height:normal;font-family:Menlo,'DejaVu Sans Mono',consolas,'Courier New',monospace\">┏━━━┳━━━━━━━━━━━━┳━━━━━━━━━━━━━┳━━━━━━━━┓\n",
       "┃<span style=\"color: #800080; text-decoration-color: #800080; font-weight: bold\">   </span>┃<span style=\"color: #800080; text-decoration-color: #800080; font-weight: bold\"> Name       </span>┃<span style=\"color: #800080; text-decoration-color: #800080; font-weight: bold\"> Type        </span>┃<span style=\"color: #800080; text-decoration-color: #800080; font-weight: bold\"> Params </span>┃\n",
       "┡━━━╇━━━━━━━━━━━━╇━━━━━━━━━━━━━╇━━━━━━━━┩\n",
       "│<span style=\"color: #7f7f7f; text-decoration-color: #7f7f7f\"> 0 </span>│ bert       │ BertModel   │  108 M │\n",
       "│<span style=\"color: #7f7f7f; text-decoration-color: #7f7f7f\"> 1 </span>│ classifier │ Linear      │  4.6 K │\n",
       "│<span style=\"color: #7f7f7f; text-decoration-color: #7f7f7f\"> 2 </span>│ criterion  │ BCELoss     │      0 │\n",
       "│<span style=\"color: #7f7f7f; text-decoration-color: #7f7f7f\"> 3 </span>│ auroc      │ BinaryAUROC │      0 │\n",
       "└───┴────────────┴─────────────┴────────┘\n",
       "</pre>\n"
      ],
      "text/plain": [
       "┏━━━┳━━━━━━━━━━━━┳━━━━━━━━━━━━━┳━━━━━━━━┓\n",
       "┃\u001b[1;35m \u001b[0m\u001b[1;35m \u001b[0m\u001b[1;35m \u001b[0m┃\u001b[1;35m \u001b[0m\u001b[1;35mName      \u001b[0m\u001b[1;35m \u001b[0m┃\u001b[1;35m \u001b[0m\u001b[1;35mType       \u001b[0m\u001b[1;35m \u001b[0m┃\u001b[1;35m \u001b[0m\u001b[1;35mParams\u001b[0m\u001b[1;35m \u001b[0m┃\n",
       "┡━━━╇━━━━━━━━━━━━╇━━━━━━━━━━━━━╇━━━━━━━━┩\n",
       "│\u001b[2m \u001b[0m\u001b[2m0\u001b[0m\u001b[2m \u001b[0m│ bert       │ BertModel   │  108 M │\n",
       "│\u001b[2m \u001b[0m\u001b[2m1\u001b[0m\u001b[2m \u001b[0m│ classifier │ Linear      │  4.6 K │\n",
       "│\u001b[2m \u001b[0m\u001b[2m2\u001b[0m\u001b[2m \u001b[0m│ criterion  │ BCELoss     │      0 │\n",
       "│\u001b[2m \u001b[0m\u001b[2m3\u001b[0m\u001b[2m \u001b[0m│ auroc      │ BinaryAUROC │      0 │\n",
       "└───┴────────────┴─────────────┴────────┘\n"
      ]
     },
     "metadata": {},
     "output_type": "display_data"
    },
    {
     "data": {
      "text/html": [
       "<pre style=\"white-space:pre;overflow-x:auto;line-height:normal;font-family:Menlo,'DejaVu Sans Mono',consolas,'Courier New',monospace\"><span style=\"font-weight: bold\">Trainable params</span>: 108 M                                                                                            \n",
       "<span style=\"font-weight: bold\">Non-trainable params</span>: 0                                                                                            \n",
       "<span style=\"font-weight: bold\">Total params</span>: 108 M                                                                                                \n",
       "<span style=\"font-weight: bold\">Total estimated model params size (MB)</span>: 433                                                                        \n",
       "</pre>\n"
      ],
      "text/plain": [
       "\u001b[1mTrainable params\u001b[0m: 108 M                                                                                            \n",
       "\u001b[1mNon-trainable params\u001b[0m: 0                                                                                            \n",
       "\u001b[1mTotal params\u001b[0m: 108 M                                                                                                \n",
       "\u001b[1mTotal estimated model params size (MB)\u001b[0m: 433                                                                        \n"
      ]
     },
     "metadata": {},
     "output_type": "display_data"
    },
    {
     "data": {
      "application/vnd.jupyter.widget-view+json": {
       "model_id": "af231bb0ad0f4290855525d9131d6bab",
       "version_major": 2,
       "version_minor": 0
      },
      "text/plain": [
       "Output()"
      ]
     },
     "metadata": {},
     "output_type": "display_data"
    },
    {
     "data": {
      "text/html": [
       "<pre style=\"white-space:pre;overflow-x:auto;line-height:normal;font-family:Menlo,'DejaVu Sans Mono',consolas,'Courier New',monospace\">/usr/lib/python3.10/multiprocessing/popen_fork.py:66: RuntimeWarning: os.fork() was called. os.fork() is \n",
       "incompatible with multithreaded code, and JAX is multithreaded, so this will likely lead to a deadlock.\n",
       "  self.pid = os.fork()\n",
       "</pre>\n"
      ],
      "text/plain": [
       "/usr/lib/python3.10/multiprocessing/popen_fork.py:66: RuntimeWarning: os.fork() was called. os.fork() is \n",
       "incompatible with multithreaded code, and JAX is multithreaded, so this will likely lead to a deadlock.\n",
       "  self.pid = os.fork()\n"
      ]
     },
     "metadata": {},
     "output_type": "display_data"
    },
    {
     "name": "stderr",
     "output_type": "stream",
     "text": [
      "INFO:pytorch_lightning.utilities.rank_zero:Epoch 0, global step 1420: 'val_loss' reached 0.17483 (best 0.17483), saving model to 'logs-bert-GRUPOX/week3-bert/version_0/checkpoints/epoch=0-step=1420.ckpt' as top 1\n"
     ]
    },
    {
     "data": {
      "text/html": [
       "<pre style=\"white-space:pre;overflow-x:auto;line-height:normal;font-family:Menlo,'DejaVu Sans Mono',consolas,'Courier New',monospace\"></pre>\n"
      ],
      "text/plain": []
     },
     "metadata": {},
     "output_type": "display_data"
    },
    {
     "data": {
      "text/html": [
       "<pre style=\"white-space:pre;overflow-x:auto;line-height:normal;font-family:Menlo,'DejaVu Sans Mono',consolas,'Courier New',monospace\">\n",
       "</pre>\n"
      ],
      "text/plain": [
       "\n"
      ]
     },
     "metadata": {},
     "output_type": "display_data"
    },
    {
     "data": {
      "application/vnd.jupyter.widget-view+json": {
       "model_id": "65167eb675ef49d393e8283d19456fe8",
       "version_major": 2,
       "version_minor": 0
      },
      "text/plain": [
       "Output()"
      ]
     },
     "metadata": {},
     "output_type": "display_data"
    },
    {
     "name": "stderr",
     "output_type": "stream",
     "text": [
      "INFO:pytorch_lightning.utilities.rank_zero:Epoch 1, global step 2840: 'val_loss' reached 0.15435 (best 0.15435), saving model to 'logs-bert-GRUPOX/week3-bert/version_0/checkpoints/epoch=1-step=2840.ckpt' as top 1\n"
     ]
    },
    {
     "data": {
      "text/html": [
       "<pre style=\"white-space:pre;overflow-x:auto;line-height:normal;font-family:Menlo,'DejaVu Sans Mono',consolas,'Courier New',monospace\"></pre>\n"
      ],
      "text/plain": []
     },
     "metadata": {},
     "output_type": "display_data"
    },
    {
     "data": {
      "text/html": [
       "<pre style=\"white-space:pre;overflow-x:auto;line-height:normal;font-family:Menlo,'DejaVu Sans Mono',consolas,'Courier New',monospace\">\n",
       "</pre>\n"
      ],
      "text/plain": [
       "\n"
      ]
     },
     "metadata": {},
     "output_type": "display_data"
    },
    {
     "data": {
      "application/vnd.jupyter.widget-view+json": {
       "model_id": "6ec47037a37d4903bfb7f9ae80ba4925",
       "version_major": 2,
       "version_minor": 0
      },
      "text/plain": [
       "Output()"
      ]
     },
     "metadata": {},
     "output_type": "display_data"
    },
    {
     "name": "stderr",
     "output_type": "stream",
     "text": [
      "INFO:pytorch_lightning.utilities.rank_zero:Epoch 2, global step 4260: 'val_loss' was not in top 1\n"
     ]
    },
    {
     "data": {
      "text/html": [
       "<pre style=\"white-space:pre;overflow-x:auto;line-height:normal;font-family:Menlo,'DejaVu Sans Mono',consolas,'Courier New',monospace\"></pre>\n"
      ],
      "text/plain": []
     },
     "metadata": {},
     "output_type": "display_data"
    },
    {
     "data": {
      "text/html": [
       "<pre style=\"white-space:pre;overflow-x:auto;line-height:normal;font-family:Menlo,'DejaVu Sans Mono',consolas,'Courier New',monospace\">\n",
       "</pre>\n"
      ],
      "text/plain": [
       "\n"
      ]
     },
     "metadata": {},
     "output_type": "display_data"
    },
    {
     "data": {
      "application/vnd.jupyter.widget-view+json": {
       "model_id": "e6c3bb4f082d41bc8480549613b9ba78",
       "version_major": 2,
       "version_minor": 0
      },
      "text/plain": [
       "Output()"
      ]
     },
     "metadata": {},
     "output_type": "display_data"
    },
    {
     "name": "stderr",
     "output_type": "stream",
     "text": [
      "INFO:pytorch_lightning.utilities.rank_zero:Epoch 3, global step 5680: 'val_loss' was not in top 1\n"
     ]
    },
    {
     "data": {
      "text/html": [
       "<pre style=\"white-space:pre;overflow-x:auto;line-height:normal;font-family:Menlo,'DejaVu Sans Mono',consolas,'Courier New',monospace\"></pre>\n"
      ],
      "text/plain": []
     },
     "metadata": {},
     "output_type": "display_data"
    },
    {
     "data": {
      "text/html": [
       "<pre style=\"white-space:pre;overflow-x:auto;line-height:normal;font-family:Menlo,'DejaVu Sans Mono',consolas,'Courier New',monospace\">\n",
       "</pre>\n"
      ],
      "text/plain": [
       "\n"
      ]
     },
     "metadata": {},
     "output_type": "display_data"
    }
   ],
   "source": [
    "trainer.fit(model, data_module)"
   ]
  },
  {
   "cell_type": "markdown",
   "metadata": {
    "id": "KKrlcyK_eX3s"
   },
   "source": [
    "## Predicciones\n",
    "\n",
    "Cargamos el mejor checkpoint del modelo:"
   ]
  },
  {
   "cell_type": "code",
   "execution_count": 58,
   "metadata": {
    "colab": {
     "base_uri": "https://localhost:8080/"
    },
    "executionInfo": {
     "elapsed": 2803,
     "status": "ok",
     "timestamp": 1721172549515,
     "user": {
      "displayName": "Karen Rosero",
      "userId": "14192812651435042745"
     },
     "user_tz": 300
    },
    "id": "tGCXjnMPHlcp",
    "outputId": "fc4b45a9-5117-4559-f95e-e99c11bcd86c"
   },
   "outputs": [
    {
     "data": {
      "text/plain": [
       "ToxicCommentTagger(\n",
       "  (bert): BertModel(\n",
       "    (embeddings): BertEmbeddings(\n",
       "      (word_embeddings): Embedding(28996, 768, padding_idx=0)\n",
       "      (position_embeddings): Embedding(512, 768)\n",
       "      (token_type_embeddings): Embedding(2, 768)\n",
       "      (LayerNorm): LayerNorm((768,), eps=1e-12, elementwise_affine=True)\n",
       "      (dropout): Dropout(p=0.1, inplace=False)\n",
       "    )\n",
       "    (encoder): BertEncoder(\n",
       "      (layer): ModuleList(\n",
       "        (0-11): 12 x BertLayer(\n",
       "          (attention): BertAttention(\n",
       "            (self): BertSelfAttention(\n",
       "              (query): Linear(in_features=768, out_features=768, bias=True)\n",
       "              (key): Linear(in_features=768, out_features=768, bias=True)\n",
       "              (value): Linear(in_features=768, out_features=768, bias=True)\n",
       "              (dropout): Dropout(p=0.1, inplace=False)\n",
       "            )\n",
       "            (output): BertSelfOutput(\n",
       "              (dense): Linear(in_features=768, out_features=768, bias=True)\n",
       "              (LayerNorm): LayerNorm((768,), eps=1e-12, elementwise_affine=True)\n",
       "              (dropout): Dropout(p=0.1, inplace=False)\n",
       "            )\n",
       "          )\n",
       "          (intermediate): BertIntermediate(\n",
       "            (dense): Linear(in_features=768, out_features=3072, bias=True)\n",
       "            (intermediate_act_fn): GELUActivation()\n",
       "          )\n",
       "          (output): BertOutput(\n",
       "            (dense): Linear(in_features=3072, out_features=768, bias=True)\n",
       "            (LayerNorm): LayerNorm((768,), eps=1e-12, elementwise_affine=True)\n",
       "            (dropout): Dropout(p=0.1, inplace=False)\n",
       "          )\n",
       "        )\n",
       "      )\n",
       "    )\n",
       "    (pooler): BertPooler(\n",
       "      (dense): Linear(in_features=768, out_features=768, bias=True)\n",
       "      (activation): Tanh()\n",
       "    )\n",
       "  )\n",
       "  (classifier): Linear(in_features=768, out_features=6, bias=True)\n",
       "  (criterion): BCELoss()\n",
       "  (auroc): BinaryAUROC()\n",
       ")"
      ]
     },
     "execution_count": 58,
     "metadata": {},
     "output_type": "execute_result"
    }
   ],
   "source": [
    "trained_model = ToxicCommentTagger.load_from_checkpoint(\n",
    "  '/content/logs-bert-GRUPOX/week3-bert/version_0/checkpoints/epoch=1-step=2840.ckpt',\n",
    "  n_classes=len(LABEL_COLUMNS)\n",
    ")\n",
    "trained_model.eval()\n",
    "trained_model.freeze()\n",
    "device = torch.device(\"cuda\" if torch.cuda.is_available() else \"cpu\")\n",
    "trained_model.to(device)"
   ]
  },
  {
   "cell_type": "markdown",
   "metadata": {
    "id": "T6_XUmzWOQ0m"
   },
   "source": [
    "Usamos el modelo entrenado para predecir la toxicidad de un texto de entrada que no tiene contenido sensible."
   ]
  },
  {
   "cell_type": "code",
   "execution_count": 60,
   "metadata": {
    "colab": {
     "base_uri": "https://localhost:8080/"
    },
    "executionInfo": {
     "elapsed": 132,
     "status": "ok",
     "timestamp": 1721172611641,
     "user": {
      "displayName": "Karen Rosero",
      "userId": "14192812651435042745"
     },
     "user_tz": 300
    },
    "id": "-UIFiSLl6s8B",
    "outputId": "fcce71a7-4bda-4ed4-8287-4a7b1e2d2429"
   },
   "outputs": [
    {
     "name": "stdout",
     "output_type": "stream",
     "text": [
      "toxic: 0.053285401314496994\n",
      "severe_toxic: 0.0033043483272194862\n",
      "obscene: 0.0096925999969244\n",
      "threat: 0.004268743097782135\n",
      "insult: 0.0077186282724142075\n",
      "identity_hate: 0.004128365311771631\n"
     ]
    }
   ],
   "source": [
    "test_comment = \"Hi, I'm Meredith and I'm a doctor, I'll help you.\"\n",
    "\n",
    "encoding = tokenizer.encode_plus(\n",
    "  test_comment,\n",
    "  add_special_tokens=True,\n",
    "  max_length=512,\n",
    "  return_token_type_ids=False,\n",
    "  padding=\"max_length\",\n",
    "  return_attention_mask=True,\n",
    "  return_tensors='pt',\n",
    ")\n",
    "\n",
    "input_ids = encoding[\"input_ids\"].to(device)\n",
    "attention_mask = encoding[\"attention_mask\"].to(device)\n",
    "\n",
    "trained_model.eval()\n",
    "with torch.no_grad():\n",
    "    _, test_prediction = trained_model(input_ids, attention_mask)\n",
    "\n",
    "test_prediction = test_prediction.flatten().cpu().numpy()\n",
    "\n",
    "for label, prediction in zip(LABEL_COLUMNS, test_prediction):\n",
    "  print(f\"{label}: {prediction}\")"
   ]
  },
  {
   "cell_type": "markdown",
   "metadata": {
    "id": "IBcq1sXHOZVo"
   },
   "source": [
    "Usa el modelo para evaluar una frase con contenido sensible.\n",
    "Se ha definido un limite de probabilidad para que las clases con probabilidad mayor a 0.5 sean consideradas en al predicción."
   ]
  },
  {
   "cell_type": "code",
   "execution_count": 61,
   "metadata": {
    "colab": {
     "base_uri": "https://localhost:8080/"
    },
    "executionInfo": {
     "elapsed": 111,
     "status": "ok",
     "timestamp": 1721172631288,
     "user": {
      "displayName": "Karen Rosero",
      "userId": "14192812651435042745"
     },
     "user_tz": 300
    },
    "id": "i8oR0M_Z4hae",
    "outputId": "2f320993-55c2-4b89-cfaf-2b1d6d4a8ef8"
   },
   "outputs": [
    {
     "name": "stdout",
     "output_type": "stream",
     "text": [
      "toxic: 0.9818149209022522\n",
      "insult: 0.7509309649467468\n"
     ]
    }
   ],
   "source": [
    "THRESHOLD = 0.5\n",
    "\n",
    "test_comment = \"You are such a loser! You'll regret everything you've done to me!\"\n",
    "encoding = tokenizer.encode_plus(\n",
    "  test_comment,\n",
    "  add_special_tokens=True,\n",
    "  max_length=512,\n",
    "  return_token_type_ids=False,\n",
    "  padding=\"max_length\",\n",
    "  return_attention_mask=True,\n",
    "  return_tensors='pt',\n",
    ")\n",
    "\n",
    "\n",
    "input_ids = encoding[\"input_ids\"].to(device)\n",
    "attention_mask = encoding[\"attention_mask\"].to(device)\n",
    "\n",
    "trained_model.eval()\n",
    "with torch.no_grad():\n",
    "    _, test_prediction = trained_model(input_ids, attention_mask)\n",
    "\n",
    "test_prediction = test_prediction.flatten().cpu().numpy()\n",
    "\n",
    "for label, prediction in zip(LABEL_COLUMNS, test_prediction):\n",
    "  if prediction < THRESHOLD:\n",
    "    continue\n",
    "  print(f\"{label}: {prediction}\")"
   ]
  },
  {
   "cell_type": "markdown",
   "metadata": {
    "id": "8O1pKXAqD-KL"
   },
   "source": [
    "## Evaluación"
   ]
  },
  {
   "cell_type": "code",
   "execution_count": 62,
   "metadata": {
    "colab": {
     "base_uri": "https://localhost:8080/",
     "height": 49,
     "referenced_widgets": [
      "ff051ddfeb69414cb1acdcc21dc36775",
      "ff7195102aa54cd78fbe3ff3e40b3733",
      "0de9fee8328e49d48625d0645aa64c93",
      "18ec3ca75ef547b08205157cddf65e62",
      "8ed03fd78e5048f08fd1371c89a22a86",
      "cbf5ced9f59247d2808d0b2a76918f29",
      "44a47c7bdae64bf99dc826b251c16107",
      "2b5c47d88a6040b9914073315b0979cb",
      "3ef45960a58b46f1ab4297303510a0c1",
      "338af3b5451c402cbaafbb4ddeb8b231",
      "0eefaf0239474e9290c1cf7aafa34e3c"
     ]
    },
    "executionInfo": {
     "elapsed": 106506,
     "status": "ok",
     "timestamp": 1721172752832,
     "user": {
      "displayName": "Karen Rosero",
      "userId": "14192812651435042745"
     },
     "user_tz": 300
    },
    "id": "pUp4LKr282sf",
    "outputId": "b5ee7c03-2ef8-4105-b5dd-86bdae5292f0"
   },
   "outputs": [
    {
     "data": {
      "application/vnd.jupyter.widget-view+json": {
       "model_id": "ff051ddfeb69414cb1acdcc21dc36775",
       "version_major": 2,
       "version_minor": 0
      },
      "text/plain": [
       "  0%|          | 0/4867 [00:00<?, ?it/s]"
      ]
     },
     "metadata": {},
     "output_type": "display_data"
    }
   ],
   "source": [
    "device = torch.device('cuda' if torch.cuda.is_available() else 'cpu')\n",
    "trained_model = trained_model.to(device)\n",
    "\n",
    "val_dataset = ToxicCommentsDataset(\n",
    "  val_df,\n",
    "  tokenizer,\n",
    "  max_token_len=MAX_TOKEN_COUNT\n",
    ")\n",
    "\n",
    "predictions = []\n",
    "labels = []\n",
    "\n",
    "for item in tqdm(val_dataset):\n",
    "  _, prediction = trained_model(\n",
    "    item[\"input_ids\"].unsqueeze(dim=0).to(device),\n",
    "    item[\"attention_mask\"].unsqueeze(dim=0).to(device)\n",
    "  )\n",
    "  predictions.append(prediction.flatten())\n",
    "  labels.append(item[\"labels\"].int())\n",
    "\n",
    "predictions = torch.stack(predictions).detach().cpu()\n",
    "labels = torch.stack(labels).detach().cpu()"
   ]
  },
  {
   "cell_type": "code",
   "execution_count": 63,
   "metadata": {
    "executionInfo": {
     "elapsed": 1,
     "status": "ok",
     "timestamp": 1721172752847,
     "user": {
      "displayName": "Karen Rosero",
      "userId": "14192812651435042745"
     },
     "user_tz": 300
    },
    "id": "5GK7xZt2MLIZ"
   },
   "outputs": [],
   "source": [
    "accuracy_metric = Accuracy(task='binary').to(device)"
   ]
  },
  {
   "cell_type": "code",
   "execution_count": 64,
   "metadata": {
    "colab": {
     "base_uri": "https://localhost:8080/"
    },
    "executionInfo": {
     "elapsed": 156,
     "status": "ok",
     "timestamp": 1721172928423,
     "user": {
      "displayName": "Karen Rosero",
      "userId": "14192812651435042745"
     },
     "user_tz": 300
    },
    "id": "WGkvsx4h_lK9",
    "outputId": "fd30b22c-c4b2-497a-bfe7-800e156a8568"
   },
   "outputs": [
    {
     "data": {
      "text/plain": [
       "tensor(0.9361, device='cuda:0')"
      ]
     },
     "execution_count": 64,
     "metadata": {},
     "output_type": "execute_result"
    }
   ],
   "source": [
    "accuracy_metric(predictions, labels)"
   ]
  },
  {
   "cell_type": "markdown",
   "metadata": {
    "id": "iPd8y3OZqK_O"
   },
   "source": [
    "## Tarea computacional 3"
   ]
  },
  {
   "cell_type": "markdown",
   "metadata": {
    "id": "fQD0l-K69rvy"
   },
   "source": [
    "* Parte 1: Calcular la acuracia por clase tanto para validación como para test, en la base de datos usada en este notebook para la detección de mensajes tóxicos.\n",
    "\n",
    "\n",
    "* Parte 2: Adaptar BERT para clasificación de emociones en comentarios de películas. Usar la base de datos IMDB.\n",
    "\n",
    "https://www.kaggle.com/datasets/lakshmi25npathi/imdb-dataset-of-50k-movie-reviews"
   ]
  },
  {
   "cell_type": "code",
   "execution_count": null,
   "metadata": {
    "id": "tORCrtYDR8JN"
   },
   "outputs": [],
   "source": []
  }
 ],
 "metadata": {
  "accelerator": "GPU",
  "colab": {
   "provenance": []
  },
  "kernelspec": {
   "display_name": "base",
   "language": "python",
   "name": "python3"
  },
  "language_info": {
   "codemirror_mode": {
    "name": "ipython",
    "version": 3
   },
   "file_extension": ".py",
   "mimetype": "text/x-python",
   "name": "python",
   "nbconvert_exporter": "python",
   "pygments_lexer": "ipython3",
   "version": "3.12.2"
  },
  "widgets": {
   "application/vnd.jupyter.widget-state+json": {
    "0de9fee8328e49d48625d0645aa64c93": {
     "model_module": "@jupyter-widgets/controls",
     "model_module_version": "1.5.0",
     "model_name": "FloatProgressModel",
     "state": {
      "_dom_classes": [],
      "_model_module": "@jupyter-widgets/controls",
      "_model_module_version": "1.5.0",
      "_model_name": "FloatProgressModel",
      "_view_count": null,
      "_view_module": "@jupyter-widgets/controls",
      "_view_module_version": "1.5.0",
      "_view_name": "ProgressView",
      "bar_style": "success",
      "description": "",
      "description_tooltip": null,
      "layout": "IPY_MODEL_2b5c47d88a6040b9914073315b0979cb",
      "max": 4867,
      "min": 0,
      "orientation": "horizontal",
      "style": "IPY_MODEL_3ef45960a58b46f1ab4297303510a0c1",
      "value": 4867
     }
    },
    "0eefaf0239474e9290c1cf7aafa34e3c": {
     "model_module": "@jupyter-widgets/controls",
     "model_module_version": "1.5.0",
     "model_name": "DescriptionStyleModel",
     "state": {
      "_model_module": "@jupyter-widgets/controls",
      "_model_module_version": "1.5.0",
      "_model_name": "DescriptionStyleModel",
      "_view_count": null,
      "_view_module": "@jupyter-widgets/base",
      "_view_module_version": "1.2.0",
      "_view_name": "StyleView",
      "description_width": ""
     }
    },
    "18ec3ca75ef547b08205157cddf65e62": {
     "model_module": "@jupyter-widgets/controls",
     "model_module_version": "1.5.0",
     "model_name": "HTMLModel",
     "state": {
      "_dom_classes": [],
      "_model_module": "@jupyter-widgets/controls",
      "_model_module_version": "1.5.0",
      "_model_name": "HTMLModel",
      "_view_count": null,
      "_view_module": "@jupyter-widgets/controls",
      "_view_module_version": "1.5.0",
      "_view_name": "HTMLView",
      "description": "",
      "description_tooltip": null,
      "layout": "IPY_MODEL_338af3b5451c402cbaafbb4ddeb8b231",
      "placeholder": "​",
      "style": "IPY_MODEL_0eefaf0239474e9290c1cf7aafa34e3c",
      "value": " 4867/4867 [01:46&lt;00:00, 40.76it/s]"
     }
    },
    "2b5c47d88a6040b9914073315b0979cb": {
     "model_module": "@jupyter-widgets/base",
     "model_module_version": "1.2.0",
     "model_name": "LayoutModel",
     "state": {
      "_model_module": "@jupyter-widgets/base",
      "_model_module_version": "1.2.0",
      "_model_name": "LayoutModel",
      "_view_count": null,
      "_view_module": "@jupyter-widgets/base",
      "_view_module_version": "1.2.0",
      "_view_name": "LayoutView",
      "align_content": null,
      "align_items": null,
      "align_self": null,
      "border": null,
      "bottom": null,
      "display": null,
      "flex": null,
      "flex_flow": null,
      "grid_area": null,
      "grid_auto_columns": null,
      "grid_auto_flow": null,
      "grid_auto_rows": null,
      "grid_column": null,
      "grid_gap": null,
      "grid_row": null,
      "grid_template_areas": null,
      "grid_template_columns": null,
      "grid_template_rows": null,
      "height": null,
      "justify_content": null,
      "justify_items": null,
      "left": null,
      "margin": null,
      "max_height": null,
      "max_width": null,
      "min_height": null,
      "min_width": null,
      "object_fit": null,
      "object_position": null,
      "order": null,
      "overflow": null,
      "overflow_x": null,
      "overflow_y": null,
      "padding": null,
      "right": null,
      "top": null,
      "visibility": null,
      "width": null
     }
    },
    "326de4c08b8341d4975bd8a696c2e531": {
     "model_module": "@jupyter-widgets/base",
     "model_module_version": "1.2.0",
     "model_name": "LayoutModel",
     "state": {
      "_model_module": "@jupyter-widgets/base",
      "_model_module_version": "1.2.0",
      "_model_name": "LayoutModel",
      "_view_count": null,
      "_view_module": "@jupyter-widgets/base",
      "_view_module_version": "1.2.0",
      "_view_name": "LayoutView",
      "align_content": null,
      "align_items": null,
      "align_self": null,
      "border": null,
      "bottom": null,
      "display": null,
      "flex": null,
      "flex_flow": null,
      "grid_area": null,
      "grid_auto_columns": null,
      "grid_auto_flow": null,
      "grid_auto_rows": null,
      "grid_column": null,
      "grid_gap": null,
      "grid_row": null,
      "grid_template_areas": null,
      "grid_template_columns": null,
      "grid_template_rows": null,
      "height": null,
      "justify_content": null,
      "justify_items": null,
      "left": null,
      "margin": null,
      "max_height": null,
      "max_width": null,
      "min_height": null,
      "min_width": null,
      "object_fit": null,
      "object_position": null,
      "order": null,
      "overflow": null,
      "overflow_x": null,
      "overflow_y": null,
      "padding": null,
      "right": null,
      "top": null,
      "visibility": null,
      "width": null
     }
    },
    "338af3b5451c402cbaafbb4ddeb8b231": {
     "model_module": "@jupyter-widgets/base",
     "model_module_version": "1.2.0",
     "model_name": "LayoutModel",
     "state": {
      "_model_module": "@jupyter-widgets/base",
      "_model_module_version": "1.2.0",
      "_model_name": "LayoutModel",
      "_view_count": null,
      "_view_module": "@jupyter-widgets/base",
      "_view_module_version": "1.2.0",
      "_view_name": "LayoutView",
      "align_content": null,
      "align_items": null,
      "align_self": null,
      "border": null,
      "bottom": null,
      "display": null,
      "flex": null,
      "flex_flow": null,
      "grid_area": null,
      "grid_auto_columns": null,
      "grid_auto_flow": null,
      "grid_auto_rows": null,
      "grid_column": null,
      "grid_gap": null,
      "grid_row": null,
      "grid_template_areas": null,
      "grid_template_columns": null,
      "grid_template_rows": null,
      "height": null,
      "justify_content": null,
      "justify_items": null,
      "left": null,
      "margin": null,
      "max_height": null,
      "max_width": null,
      "min_height": null,
      "min_width": null,
      "object_fit": null,
      "object_position": null,
      "order": null,
      "overflow": null,
      "overflow_x": null,
      "overflow_y": null,
      "padding": null,
      "right": null,
      "top": null,
      "visibility": null,
      "width": null
     }
    },
    "39e5f3f049014efd99c30830c4bcf017": {
     "model_module": "@jupyter-widgets/base",
     "model_module_version": "1.2.0",
     "model_name": "LayoutModel",
     "state": {
      "_model_module": "@jupyter-widgets/base",
      "_model_module_version": "1.2.0",
      "_model_name": "LayoutModel",
      "_view_count": null,
      "_view_module": "@jupyter-widgets/base",
      "_view_module_version": "1.2.0",
      "_view_name": "LayoutView",
      "align_content": null,
      "align_items": null,
      "align_self": null,
      "border": null,
      "bottom": null,
      "display": null,
      "flex": null,
      "flex_flow": null,
      "grid_area": null,
      "grid_auto_columns": null,
      "grid_auto_flow": null,
      "grid_auto_rows": null,
      "grid_column": null,
      "grid_gap": null,
      "grid_row": null,
      "grid_template_areas": null,
      "grid_template_columns": null,
      "grid_template_rows": null,
      "height": null,
      "justify_content": null,
      "justify_items": null,
      "left": null,
      "margin": null,
      "max_height": null,
      "max_width": null,
      "min_height": null,
      "min_width": null,
      "object_fit": null,
      "object_position": null,
      "order": null,
      "overflow": null,
      "overflow_x": null,
      "overflow_y": null,
      "padding": null,
      "right": null,
      "top": null,
      "visibility": null,
      "width": null
     }
    },
    "3ef45960a58b46f1ab4297303510a0c1": {
     "model_module": "@jupyter-widgets/controls",
     "model_module_version": "1.5.0",
     "model_name": "ProgressStyleModel",
     "state": {
      "_model_module": "@jupyter-widgets/controls",
      "_model_module_version": "1.5.0",
      "_model_name": "ProgressStyleModel",
      "_view_count": null,
      "_view_module": "@jupyter-widgets/base",
      "_view_module_version": "1.2.0",
      "_view_name": "StyleView",
      "bar_color": null,
      "description_width": ""
     }
    },
    "44a47c7bdae64bf99dc826b251c16107": {
     "model_module": "@jupyter-widgets/controls",
     "model_module_version": "1.5.0",
     "model_name": "DescriptionStyleModel",
     "state": {
      "_model_module": "@jupyter-widgets/controls",
      "_model_module_version": "1.5.0",
      "_model_name": "DescriptionStyleModel",
      "_view_count": null,
      "_view_module": "@jupyter-widgets/base",
      "_view_module_version": "1.2.0",
      "_view_name": "StyleView",
      "description_width": ""
     }
    },
    "65167eb675ef49d393e8283d19456fe8": {
     "model_module": "@jupyter-widgets/output",
     "model_module_version": "1.0.0",
     "model_name": "OutputModel",
     "state": {
      "_dom_classes": [],
      "_model_module": "@jupyter-widgets/output",
      "_model_module_version": "1.0.0",
      "_model_name": "OutputModel",
      "_view_count": null,
      "_view_module": "@jupyter-widgets/output",
      "_view_module_version": "1.0.0",
      "_view_name": "OutputView",
      "layout": "IPY_MODEL_cd229db92be4474b9a4c6258cfa3aaa9",
      "msg_id": "",
      "outputs": [
       {
        "data": {
         "text/html": "<pre style=\"white-space:pre;overflow-x:auto;line-height:normal;font-family:Menlo,'DejaVu Sans Mono',consolas,'Courier New',monospace\"><span style=\"color: #c0c0c0; text-decoration-color: #c0c0c0\">Epoch 1/9 </span> <span style=\"color: #6206e0; text-decoration-color: #6206e0\">━━━━━━━━━━━━━━━━━━━━━━━━━━━━━━━━</span> <span style=\"color: #c0c0c0; text-decoration-color: #c0c0c0\">1420/1420</span> <span style=\"color: #8a8a8a; text-decoration-color: #8a8a8a\">0:08:09 • 0:00:00</span> <span style=\"color: #b2b2b2; text-decoration-color: #b2b2b2\">2.92it/s</span> <span style=\"color: #c0c0c0; text-decoration-color: #c0c0c0\">v_num: 0.000 train_loss: 0.068    </span>\n                                                                                 <span style=\"color: #c0c0c0; text-decoration-color: #c0c0c0\">val_loss: 0.175                   </span>\n</pre>\n",
         "text/plain": "\u001b[37mEpoch 1/9 \u001b[0m \u001b[38;2;98;6;224m━━━━━━━━━━━━━━━━━━━━━━━━━━━━━━━━\u001b[0m \u001b[37m1420/1420\u001b[0m \u001b[38;5;245m0:08:09 • 0:00:00\u001b[0m \u001b[38;5;249m2.92it/s\u001b[0m \u001b[37mv_num: 0.000 train_loss: 0.068    \u001b[0m\n                                                                                 \u001b[37mval_loss: 0.175                   \u001b[0m\n"
        },
        "metadata": {},
        "output_type": "display_data"
       }
      ]
     }
    },
    "6ec47037a37d4903bfb7f9ae80ba4925": {
     "model_module": "@jupyter-widgets/output",
     "model_module_version": "1.0.0",
     "model_name": "OutputModel",
     "state": {
      "_dom_classes": [],
      "_model_module": "@jupyter-widgets/output",
      "_model_module_version": "1.0.0",
      "_model_name": "OutputModel",
      "_view_count": null,
      "_view_module": "@jupyter-widgets/output",
      "_view_module_version": "1.0.0",
      "_view_name": "OutputView",
      "layout": "IPY_MODEL_39e5f3f049014efd99c30830c4bcf017",
      "msg_id": "",
      "outputs": [
       {
        "data": {
         "text/html": "<pre style=\"white-space:pre;overflow-x:auto;line-height:normal;font-family:Menlo,'DejaVu Sans Mono',consolas,'Courier New',monospace\"><span style=\"color: #c0c0c0; text-decoration-color: #c0c0c0\">Epoch 2/9 </span> <span style=\"color: #6206e0; text-decoration-color: #6206e0\">━━━━━━━━━━━━━━━━━━━━━━━━━━━━━━━━</span> <span style=\"color: #c0c0c0; text-decoration-color: #c0c0c0\">1420/1420</span> <span style=\"color: #8a8a8a; text-decoration-color: #8a8a8a\">0:08:09 • 0:00:00</span> <span style=\"color: #b2b2b2; text-decoration-color: #b2b2b2\">2.92it/s</span> <span style=\"color: #c0c0c0; text-decoration-color: #c0c0c0\">v_num: 0.000 train_loss: 0.170    </span>\n                                                                                 <span style=\"color: #c0c0c0; text-decoration-color: #c0c0c0\">val_loss: 0.154                   </span>\n</pre>\n",
         "text/plain": "\u001b[37mEpoch 2/9 \u001b[0m \u001b[38;2;98;6;224m━━━━━━━━━━━━━━━━━━━━━━━━━━━━━━━━\u001b[0m \u001b[37m1420/1420\u001b[0m \u001b[38;5;245m0:08:09 • 0:00:00\u001b[0m \u001b[38;5;249m2.92it/s\u001b[0m \u001b[37mv_num: 0.000 train_loss: 0.170    \u001b[0m\n                                                                                 \u001b[37mval_loss: 0.154                   \u001b[0m\n"
        },
        "metadata": {},
        "output_type": "display_data"
       }
      ]
     }
    },
    "8ed03fd78e5048f08fd1371c89a22a86": {
     "model_module": "@jupyter-widgets/base",
     "model_module_version": "1.2.0",
     "model_name": "LayoutModel",
     "state": {
      "_model_module": "@jupyter-widgets/base",
      "_model_module_version": "1.2.0",
      "_model_name": "LayoutModel",
      "_view_count": null,
      "_view_module": "@jupyter-widgets/base",
      "_view_module_version": "1.2.0",
      "_view_name": "LayoutView",
      "align_content": null,
      "align_items": null,
      "align_self": null,
      "border": null,
      "bottom": null,
      "display": null,
      "flex": null,
      "flex_flow": null,
      "grid_area": null,
      "grid_auto_columns": null,
      "grid_auto_flow": null,
      "grid_auto_rows": null,
      "grid_column": null,
      "grid_gap": null,
      "grid_row": null,
      "grid_template_areas": null,
      "grid_template_columns": null,
      "grid_template_rows": null,
      "height": null,
      "justify_content": null,
      "justify_items": null,
      "left": null,
      "margin": null,
      "max_height": null,
      "max_width": null,
      "min_height": null,
      "min_width": null,
      "object_fit": null,
      "object_position": null,
      "order": null,
      "overflow": null,
      "overflow_x": null,
      "overflow_y": null,
      "padding": null,
      "right": null,
      "top": null,
      "visibility": null,
      "width": null
     }
    },
    "90e9a1f4ab674337923b01f3677ce420": {
     "model_module": "@jupyter-widgets/base",
     "model_module_version": "1.2.0",
     "model_name": "LayoutModel",
     "state": {
      "_model_module": "@jupyter-widgets/base",
      "_model_module_version": "1.2.0",
      "_model_name": "LayoutModel",
      "_view_count": null,
      "_view_module": "@jupyter-widgets/base",
      "_view_module_version": "1.2.0",
      "_view_name": "LayoutView",
      "align_content": null,
      "align_items": null,
      "align_self": null,
      "border": null,
      "bottom": null,
      "display": null,
      "flex": null,
      "flex_flow": null,
      "grid_area": null,
      "grid_auto_columns": null,
      "grid_auto_flow": null,
      "grid_auto_rows": null,
      "grid_column": null,
      "grid_gap": null,
      "grid_row": null,
      "grid_template_areas": null,
      "grid_template_columns": null,
      "grid_template_rows": null,
      "height": null,
      "justify_content": null,
      "justify_items": null,
      "left": null,
      "margin": null,
      "max_height": null,
      "max_width": null,
      "min_height": null,
      "min_width": null,
      "object_fit": null,
      "object_position": null,
      "order": null,
      "overflow": null,
      "overflow_x": null,
      "overflow_y": null,
      "padding": null,
      "right": null,
      "top": null,
      "visibility": null,
      "width": null
     }
    },
    "af231bb0ad0f4290855525d9131d6bab": {
     "model_module": "@jupyter-widgets/output",
     "model_module_version": "1.0.0",
     "model_name": "OutputModel",
     "state": {
      "_dom_classes": [],
      "_model_module": "@jupyter-widgets/output",
      "_model_module_version": "1.0.0",
      "_model_name": "OutputModel",
      "_view_count": null,
      "_view_module": "@jupyter-widgets/output",
      "_view_module_version": "1.0.0",
      "_view_name": "OutputView",
      "layout": "IPY_MODEL_90e9a1f4ab674337923b01f3677ce420",
      "msg_id": "",
      "outputs": [
       {
        "data": {
         "text/html": "<pre style=\"white-space:pre;overflow-x:auto;line-height:normal;font-family:Menlo,'DejaVu Sans Mono',consolas,'Courier New',monospace\"><span style=\"color: #c0c0c0; text-decoration-color: #c0c0c0\">Epoch 0/9 </span> <span style=\"color: #6206e0; text-decoration-color: #6206e0\">━━━━━━━━━━━━━━━━━━━━━━━━━━━━━━━━━━━━</span> <span style=\"color: #c0c0c0; text-decoration-color: #c0c0c0\">1420/1420</span> <span style=\"color: #8a8a8a; text-decoration-color: #8a8a8a\">0:08:08 • 0:00:00</span> <span style=\"color: #b2b2b2; text-decoration-color: #b2b2b2\">2.92it/s</span> <span style=\"color: #c0c0c0; text-decoration-color: #c0c0c0\">v_num: 0.000 train_loss: 0.219</span>\n</pre>\n",
         "text/plain": "\u001b[37mEpoch 0/9 \u001b[0m \u001b[38;2;98;6;224m━━━━━━━━━━━━━━━━━━━━━━━━━━━━━━━━━━━━\u001b[0m \u001b[37m1420/1420\u001b[0m \u001b[38;5;245m0:08:08 • 0:00:00\u001b[0m \u001b[38;5;249m2.92it/s\u001b[0m \u001b[37mv_num: 0.000 train_loss: 0.219\u001b[0m\n"
        },
        "metadata": {},
        "output_type": "display_data"
       }
      ]
     }
    },
    "cbf5ced9f59247d2808d0b2a76918f29": {
     "model_module": "@jupyter-widgets/base",
     "model_module_version": "1.2.0",
     "model_name": "LayoutModel",
     "state": {
      "_model_module": "@jupyter-widgets/base",
      "_model_module_version": "1.2.0",
      "_model_name": "LayoutModel",
      "_view_count": null,
      "_view_module": "@jupyter-widgets/base",
      "_view_module_version": "1.2.0",
      "_view_name": "LayoutView",
      "align_content": null,
      "align_items": null,
      "align_self": null,
      "border": null,
      "bottom": null,
      "display": null,
      "flex": null,
      "flex_flow": null,
      "grid_area": null,
      "grid_auto_columns": null,
      "grid_auto_flow": null,
      "grid_auto_rows": null,
      "grid_column": null,
      "grid_gap": null,
      "grid_row": null,
      "grid_template_areas": null,
      "grid_template_columns": null,
      "grid_template_rows": null,
      "height": null,
      "justify_content": null,
      "justify_items": null,
      "left": null,
      "margin": null,
      "max_height": null,
      "max_width": null,
      "min_height": null,
      "min_width": null,
      "object_fit": null,
      "object_position": null,
      "order": null,
      "overflow": null,
      "overflow_x": null,
      "overflow_y": null,
      "padding": null,
      "right": null,
      "top": null,
      "visibility": null,
      "width": null
     }
    },
    "cd229db92be4474b9a4c6258cfa3aaa9": {
     "model_module": "@jupyter-widgets/base",
     "model_module_version": "1.2.0",
     "model_name": "LayoutModel",
     "state": {
      "_model_module": "@jupyter-widgets/base",
      "_model_module_version": "1.2.0",
      "_model_name": "LayoutModel",
      "_view_count": null,
      "_view_module": "@jupyter-widgets/base",
      "_view_module_version": "1.2.0",
      "_view_name": "LayoutView",
      "align_content": null,
      "align_items": null,
      "align_self": null,
      "border": null,
      "bottom": null,
      "display": null,
      "flex": null,
      "flex_flow": null,
      "grid_area": null,
      "grid_auto_columns": null,
      "grid_auto_flow": null,
      "grid_auto_rows": null,
      "grid_column": null,
      "grid_gap": null,
      "grid_row": null,
      "grid_template_areas": null,
      "grid_template_columns": null,
      "grid_template_rows": null,
      "height": null,
      "justify_content": null,
      "justify_items": null,
      "left": null,
      "margin": null,
      "max_height": null,
      "max_width": null,
      "min_height": null,
      "min_width": null,
      "object_fit": null,
      "object_position": null,
      "order": null,
      "overflow": null,
      "overflow_x": null,
      "overflow_y": null,
      "padding": null,
      "right": null,
      "top": null,
      "visibility": null,
      "width": null
     }
    },
    "e6c3bb4f082d41bc8480549613b9ba78": {
     "model_module": "@jupyter-widgets/output",
     "model_module_version": "1.0.0",
     "model_name": "OutputModel",
     "state": {
      "_dom_classes": [],
      "_model_module": "@jupyter-widgets/output",
      "_model_module_version": "1.0.0",
      "_model_name": "OutputModel",
      "_view_count": null,
      "_view_module": "@jupyter-widgets/output",
      "_view_module_version": "1.0.0",
      "_view_name": "OutputView",
      "layout": "IPY_MODEL_326de4c08b8341d4975bd8a696c2e531",
      "msg_id": "",
      "outputs": [
       {
        "data": {
         "text/html": "<pre style=\"white-space:pre;overflow-x:auto;line-height:normal;font-family:Menlo,'DejaVu Sans Mono',consolas,'Courier New',monospace\"><span style=\"color: #c0c0c0; text-decoration-color: #c0c0c0\">Epoch 3/9 </span> <span style=\"color: #6206e0; text-decoration-color: #6206e0\">━━━━━━━━━━━━━━━━━━━━━━━━━━━━━━━━</span> <span style=\"color: #c0c0c0; text-decoration-color: #c0c0c0\">1420/1420</span> <span style=\"color: #8a8a8a; text-decoration-color: #8a8a8a\">0:08:09 • 0:00:00</span> <span style=\"color: #b2b2b2; text-decoration-color: #b2b2b2\">2.92it/s</span> <span style=\"color: #c0c0c0; text-decoration-color: #c0c0c0\">v_num: 0.000 train_loss: 0.055    </span>\n                                                                                 <span style=\"color: #c0c0c0; text-decoration-color: #c0c0c0\">val_loss: 0.161                   </span>\n</pre>\n",
         "text/plain": "\u001b[37mEpoch 3/9 \u001b[0m \u001b[38;2;98;6;224m━━━━━━━━━━━━━━━━━━━━━━━━━━━━━━━━\u001b[0m \u001b[37m1420/1420\u001b[0m \u001b[38;5;245m0:08:09 • 0:00:00\u001b[0m \u001b[38;5;249m2.92it/s\u001b[0m \u001b[37mv_num: 0.000 train_loss: 0.055    \u001b[0m\n                                                                                 \u001b[37mval_loss: 0.161                   \u001b[0m\n"
        },
        "metadata": {},
        "output_type": "display_data"
       }
      ]
     }
    },
    "ff051ddfeb69414cb1acdcc21dc36775": {
     "model_module": "@jupyter-widgets/controls",
     "model_module_version": "1.5.0",
     "model_name": "HBoxModel",
     "state": {
      "_dom_classes": [],
      "_model_module": "@jupyter-widgets/controls",
      "_model_module_version": "1.5.0",
      "_model_name": "HBoxModel",
      "_view_count": null,
      "_view_module": "@jupyter-widgets/controls",
      "_view_module_version": "1.5.0",
      "_view_name": "HBoxView",
      "box_style": "",
      "children": [
       "IPY_MODEL_ff7195102aa54cd78fbe3ff3e40b3733",
       "IPY_MODEL_0de9fee8328e49d48625d0645aa64c93",
       "IPY_MODEL_18ec3ca75ef547b08205157cddf65e62"
      ],
      "layout": "IPY_MODEL_8ed03fd78e5048f08fd1371c89a22a86"
     }
    },
    "ff7195102aa54cd78fbe3ff3e40b3733": {
     "model_module": "@jupyter-widgets/controls",
     "model_module_version": "1.5.0",
     "model_name": "HTMLModel",
     "state": {
      "_dom_classes": [],
      "_model_module": "@jupyter-widgets/controls",
      "_model_module_version": "1.5.0",
      "_model_name": "HTMLModel",
      "_view_count": null,
      "_view_module": "@jupyter-widgets/controls",
      "_view_module_version": "1.5.0",
      "_view_name": "HTMLView",
      "description": "",
      "description_tooltip": null,
      "layout": "IPY_MODEL_cbf5ced9f59247d2808d0b2a76918f29",
      "placeholder": "​",
      "style": "IPY_MODEL_44a47c7bdae64bf99dc826b251c16107",
      "value": "100%"
     }
    }
   }
  }
 },
 "nbformat": 4,
 "nbformat_minor": 0
}
